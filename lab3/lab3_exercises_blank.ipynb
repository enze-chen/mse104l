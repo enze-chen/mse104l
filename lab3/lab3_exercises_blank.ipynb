{
 "cells": [
  {
   "cell_type": "markdown",
   "id": "da4c4cef",
   "metadata": {},
   "source": [
    "# MSE 104L laboratory 3 exercises\n",
    "\n",
    "*Authors: Enze Chen and Andrew Minor (University of California, Berkeley)*\n",
    "\n",
    "```{note}\n",
    "This is an interactive exercise, so you will want to click the {fa}`rocket` and open the notebook in DataHub (or Colab for non-UCB students).\n",
    "```\n",
    "\n",
    "This notebook contains a series of exercises to help you process your data from Lab 3. \n",
    "It doesn't answer all of the discussion questions in the lab procedures, but it will help you create some figures that can supplement the narrative of your lab report.\n",
    "\n",
    "<div class='alert alert-success'>\n",
    "    This lab doesn't have a whole lot of new MSE material (from a conceptual standpoint), so we'll try to give some Python tips/challenges. \n",
    "    You will not be assessed on any of the coding material here, but we hope you'll give it a shot and have some fun.\n",
    "</div>"
   ]
  },
  {
   "cell_type": "markdown",
   "id": "0fd1f347",
   "metadata": {},
   "source": [
    "## Contents\n",
    "\n",
    "The exercises in this notebook include:\n",
    "1. [Plotting refresher](#Plot-a-spectra-as-a-sanity-check)\n",
    "1. [Writing functions](#Write-a-function-to-calculate-the-lattice-constant)\n",
    "1. [Vegard's law](#Vegard's-law)"
   ]
  },
  {
   "cell_type": "markdown",
   "id": "d4b336c5",
   "metadata": {},
   "source": [
    "## Plot a spectra as a sanity check\n",
    "\n",
    "[Back to top](#Contents)\n",
    "\n",
    "Just like Lab 2, we'll start with a plot of one of the spectra, which you should **include at least one** of so your readers have a general sense of what Cu–Ni alloy XRD patterns look like.\n",
    "\n",
    "Remember the general steps are:\n",
    "1. Upload your data to JupyterHub in the `lab3` folder.\n",
    "1. Write code below to process and plot the data.\n",
    "1. Save the figure and download it to your computer.\n",
    "\n",
    "If you don't remember what you did in lab 2, you can always reference your completed notebooks (assuming you did them) by going to JupyterHub (https://datahub.berkeley.edu) and opening them 📁 > `mse104l` > `lab2`."
   ]
  },
  {
   "cell_type": "markdown",
   "id": "98c545c1",
   "metadata": {},
   "source": [
    "## Write a function to calculate the lattice constant\n",
    "\n",
    "[Back to top](#Contents)\n",
    "\n",
    "In the previous lab, you had to calculate the lattice constant and apply the Nelson-Riley method for your samples with cubic crystal structure.\n",
    "Well, since Cu–Ni forms an FCC solid solution, you have the great privilege of _repeating_ what you did for each of your samples here.\n",
    "Of course, if you did the programming solution last time, you'll have no problem with this part of the lab. 😁\n",
    "There are two ways to go about this:\n",
    "1. (_Works_) You can copy-paste the individual code sections from the previous lab into a single code block and just run it repeatedly, with different peak positions (corresponding to different Cu–Ni samples), to get lattice constants through Nelson-Riley.\n",
    "1. (_Slightly more preferred?_) You can do something slightly fancier and **write a function** that makes things look cleaner as you repeat the steps.\n",
    "Recall that functions in Python look like:\n",
    "```python\n",
    "def function_name(args):\n",
    "       # do something\n",
    "```\n",
    "Here's an example of what we mean:"
   ]
  },
  {
   "cell_type": "code",
   "execution_count": null,
   "id": "4bf4c4e1",
   "metadata": {},
   "outputs": [],
   "source": [
    "# -------------   WRITE YOUR CODE IN THE SPACE BELOW   ---------- #\n",
    "import numpy as np\n",
    "import pandas as pd\n",
    "\n",
    "def df_calcs(angles):\n",
    "    # in your function, this would be the operations to calculate the lattice constant\n",
    "    df = pd.DataFrame({'angles':angles})\n",
    "    df['sub'] = df['angles'] - 1\n",
    "    df['d'] = np.sqrt(df['sub'])\n",
    "    df['s'] = [3, 4, 6, 12]\n",
    "    df['a'] = df['d'] * df['s']\n",
    "    return df\n",
    "\n",
    "def make_nr(data):\n",
    "    # make a similar function that makes NR plots based on the DataFrame!\n",
    "    pass\n",
    "    \n",
    "    \n",
    "# change the inputs and call the function - voila!\n",
    "data = [17.02, 10.0, 4.99, 2.01]\n",
    "df = df_calcs(data)\n",
    "display(df)\n",
    "make_nr(df)"
   ]
  },
  {
   "cell_type": "markdown",
   "id": "14b14212",
   "metadata": {},
   "source": [
    "## Vegard's law\n",
    "\n",
    "[Back to top](#Contents)\n",
    "\n",
    "Recall that in the pre-lab you learned about Vegard's law (which is pretty remarkable!) that says:\n",
    "\n",
    "$$ a_{\\text{A-B}} = a_{\\text{A}} x_{\\text{A}} + a_{\\text{B}} x_{\\text{B}} $$\n",
    "\n",
    "where $a_X$ and $x_X$ are the lattice constant and concentration, respectively, of species $X$.\n",
    "For the binary case where this applies, note $x_{\\text{B}} = 1 - x_{\\text{A}}$.\n",
    "\n",
    "Anyways, you'll do the Nelson-Riley calculation above and get a few values of $a$ corresponding to different concentrations $x$.\n",
    "You then have to plot this and comment on whether Vegard's law is obeyed.\n",
    "There are several ways to answer this question, and we encourage you to be creative.\n",
    "Here are just two _suggestions_, one based on something you've seen, and another based on something that you have probably heard before and we'll teach you how to calculate it."
   ]
  },
  {
   "cell_type": "markdown",
   "id": "18dbce83",
   "metadata": {},
   "source": [
    "1. Like with Nelson-Riley plots, you can compute a line of best fit, plot that line, and **look at the intercepts** at $x=0$ and $x=1$.\n",
    "Do they agree with the experimental lattice constants of the pure metals?\n",
    "1. You can compute a **linear correlation coefficient** (also known as [**Pearson's $r$**](https://en.wikipedia.org/wiki/Pearson_correlation_coefficient)) between your values of $a$ and $x$. \n",
    "Pearson's $r$ can be expressed mathematically as:\n",
    "\n",
    "$$ r_{X, Y} = \\frac{\\text{covariance}(X, Y)}{\\sigma(X) \\sigma(Y)} $$\n",
    "\n",
    "where $\\sigma(\\cdot)$ is the standard deviation, and values of $r$ range from $[-1, +1]$ as follows:\n",
    "\n",
    "![pearson](pearson.png)\n",
    "\n",
    "_Please note_: You already know this, but just a reminder that $r$ has no relationship to the orange line of best fit (_it is not the slope!_), but rather is an estimate of the linearity between the green data points."
   ]
  },
  {
   "cell_type": "markdown",
   "id": "a76068fa",
   "metadata": {},
   "source": [
    "### Computing $r$\n",
    "\n",
    "Once again, NumPy makes our lives pretty easy by handing to us [`np.corrcoef()`](https://numpy.org/doc/stable/reference/generated/numpy.corrcoef.html) on a silver platter.\n",
    "This function takes in `x` and `y` arrays and returns their correlation coefficient _as a matrix_ (which element should we choose?).\n",
    "It should take only a few lines of code—see if you can get it working!"
   ]
  },
  {
   "cell_type": "code",
   "execution_count": null,
   "id": "f57b5888",
   "metadata": {},
   "outputs": [],
   "source": [
    "# -------------   WRITE YOUR CODE IN THE SPACE BELOW   ---------- #\n"
   ]
  },
  {
   "cell_type": "markdown",
   "id": "414e2468",
   "metadata": {},
   "source": [
    "## Conclusion\n",
    "\n",
    "[Back to top](#Contents)\n",
    "\n",
    "This concludes the programming exercises for Lab 3. \n",
    "Congratulations! \n",
    "We hope you're proud of the plots that you generated and wish you luck with the lab writeup. 📝"
   ]
  }
 ],
 "metadata": {
  "kernelspec": {
   "display_name": "Python 3",
   "language": "python",
   "name": "python3"
  },
  "language_info": {
   "codemirror_mode": {
    "name": "ipython",
    "version": 3
   },
   "file_extension": ".py",
   "mimetype": "text/x-python",
   "name": "python",
   "nbconvert_exporter": "python",
   "pygments_lexer": "ipython3",
   "version": "3.8.8"
  }
 },
 "nbformat": 4,
 "nbformat_minor": 5
}
