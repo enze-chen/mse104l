{
 "cells": [
  {
   "cell_type": "markdown",
   "id": "da4c4cef",
   "metadata": {},
   "source": [
    "# Introduction to Python\n",
    "\n",
    "*Authors: Enze Chen and Andrew Minor (University of California, Berkeley)*\n",
    "\n",
    "```{note}\n",
    "This is an interactive exercise, so you will want to click the {fa}`rocket` and open the notebook in DataHub (or Colab for non-UCB students).\n",
    "```\n",
    "\n",
    "This notebook contains a series of exercises that are **intended for people who are new to Python**.\n",
    "It does assume some programming familiarity (maybe in another language) so not all computing concepts are discussed; the focus is largely on Python syntax.\n",
    "It is also targeted towards what you'll need to finish the laboratory exercises, so we won't discuss all of the details of Python. \n",
    "We suggest you go through the notebook from top to bottom; however, if you find that you already know a lot of this information, feel free to skip around."
   ]
  },
  {
   "cell_type": "markdown",
   "id": "a66be5b6",
   "metadata": {},
   "source": [
    "## Contents\n",
    "\n",
    "1. [General Python](#General-Python)\n",
    "1. [Variables](#Variables)\n",
    "1. [Control flow](#Control-flow)\n",
    "1. [Functions](#Functions)\n",
    "1. [Lists](#Lists)\n",
    "1. [Dictionaries](#Dictionaries)\n",
    "1. [NumPy](#The-NumPy-package)"
   ]
  },
  {
   "cell_type": "markdown",
   "id": "3dd6901e",
   "metadata": {},
   "source": [
    "## General Python\n",
    "\n",
    "[Back to top](#Contents)\n",
    "\n",
    "One of the simplest things to try in Python is to use it as a \"calculator\" to evaluate mathematical expressions.\n",
    "This is pretty much identical to the MATLAB command line.\n",
    "We can directly type the expression into a code cell and evaluate it (remember: <kbd>Shift</kbd>+<kbd>Enter</kbd>!) to get a result, such as:"
   ]
  },
  {
   "cell_type": "code",
   "execution_count": null,
   "id": "abad3fc5",
   "metadata": {
    "tags": [
     "remove-output"
    ]
   },
   "outputs": [],
   "source": [
    "2021"
   ]
  },
  {
   "cell_type": "markdown",
   "id": "c95a36fd",
   "metadata": {},
   "source": [
    "If it troubles you that the output from the last line is automatically displayed, you can explicitly call it (or any other line) with the built-in `print()` **function** like so:"
   ]
  },
  {
   "cell_type": "code",
   "execution_count": null,
   "id": "86534e4f",
   "metadata": {
    "tags": [
     "remove-output"
    ]
   },
   "outputs": [],
   "source": [
    "print(2021)\n",
    "print(2021 + 1)"
   ]
  },
  {
   "cell_type": "markdown",
   "id": "ca6a4d3e",
   "metadata": {},
   "source": [
    "We can perform arithmetic using the following **operators**:\n",
    "- `+` for addition\n",
    "- `-` for subtraction\n",
    "- `*` for multiplication\n",
    "- `/` for division\n",
    "- `**` for exponentiation (**not** `^`)"
   ]
  },
  {
   "cell_type": "code",
   "execution_count": null,
   "id": "02f51fd2",
   "metadata": {
    "tags": [
     "remove-output"
    ]
   },
   "outputs": [],
   "source": [
    "print(3.1415 * 2)"
   ]
  },
  {
   "cell_type": "markdown",
   "id": "dd1395b4",
   "metadata": {},
   "source": [
    "### Quick exercise: compute 2 raised to the power of 3"
   ]
  },
  {
   "cell_type": "code",
   "execution_count": null,
   "id": "239bb5af",
   "metadata": {
    "tags": [
     "remove-output"
    ]
   },
   "outputs": [],
   "source": [
    "# -------------   WRITE YOUR CODE IN THE SPACE BELOW   ---------- #\n"
   ]
  },
  {
   "cell_type": "markdown",
   "id": "74da67d8",
   "metadata": {},
   "source": [
    "## Variables\n",
    "\n",
    "[Back to top](#Contents)\n",
    "\n",
    "Notice that after we execute the above expressions, the value is displayed, but \"lost\" in the sense that we cannot use it for future computations (without typing the whole expression again).\n",
    "This calls for **variables**, which are used to store values for future use and to improve code readability.\n",
    "All Python variables have three components:\n",
    "- A `name` that you assign.\n",
    "- A `value` that is the data it holds.\n",
    "- A `type` for the data type.\n",
    "\n",
    "Typically variables are created using the syntax `name = value`, where `=` is the **assignment operator** that assigns the value on the _right-hand side_ to the variable name on the _left-hand side_. \n",
    "For the name, it should be _descriptive_ (explains what quantity it represents) but short. \n",
    "\n",
    "Below, we create the `year` variable and assign it a value of `2021`. \n",
    "Now when we want to print its value, we can reference the variable instead of the numerical expression."
   ]
  },
  {
   "cell_type": "code",
   "execution_count": null,
   "id": "a7b67753",
   "metadata": {
    "tags": [
     "remove-output"
    ]
   },
   "outputs": [],
   "source": [
    "year = 2022\n",
    "print(year)"
   ]
  },
  {
   "cell_type": "markdown",
   "id": "06840a01",
   "metadata": {},
   "source": [
    "### Types\n",
    "\n",
    "When we say \"data type,\" we're describing what sort of data the variable contains. \n",
    "You've already seen two data types in the previous examples, namely `int` (for integer) and `float` (for decimals).\n",
    "\n",
    "Python also has a **built-in function** `type()` that will return the type of a variable.\n",
    "For example:"
   ]
  },
  {
   "cell_type": "code",
   "execution_count": null,
   "id": "ea0fd1f0",
   "metadata": {
    "tags": [
     "remove-output"
    ]
   },
   "outputs": [],
   "source": [
    "print(type(year))   # notice how we can reference variables and data from previously-run cells!"
   ]
  },
  {
   "cell_type": "markdown",
   "id": "8c88025f",
   "metadata": {},
   "source": [
    "Two more common data types that you will see are `string` (for text) and `bool` (for logical `True`/`False`).\n",
    "\n",
    "### Strings 🧵\n",
    "\n",
    "Strings in Python are created using single quotes (`'`) or double quotes (`\"`), and you can take your pick, _as long as you're consistent_.\n",
    "Generally it doesn't matter, except when the text you're enclosing has a single (or double) quotation mark, in which case you will want to surround your whole string with the other one.\n",
    "\n",
    "```python\n",
    "'band gaps'     # single quotes on both sides\n",
    "\"1337\"          # double quotes, just as good. Note how this is still a string, not an integer!\n",
    "\"That's cool!\"  # here we have to use double quotes for the string since \"That's\" has an apostrophe\n",
    "```\n",
    "\n",
    "Just to re-emphasize: Even if the characters in a string are numbers, the whole expression inside the quotes is _still a string_.\n",
    "If we want to change the second line from `str` to `int`, we would have to **cast** the value using the built-in `int(...)` function."
   ]
  },
  {
   "cell_type": "code",
   "execution_count": null,
   "id": "67357a45",
   "metadata": {
    "tags": [
     "remove-output"
    ]
   },
   "outputs": [],
   "source": [
    "a = 1337\n",
    "b = '1337'\n",
    "print(a, b)\n",
    "print(type(a))\n",
    "print(type(b))\n",
    "print(a == b)        # The == operator checks for equality; see next section!\n",
    "print(a == int(b))   # we cast b to int type\n",
    "print(str(a) == b)   # we cast a to str type"
   ]
  },
  {
   "cell_type": "markdown",
   "id": "cb3e5bca",
   "metadata": {},
   "source": [
    "Did you know that you can join two strings together with the `+` operator?\n",
    "It's pretty cool. \n",
    "Run the next cell to check it out."
   ]
  },
  {
   "cell_type": "code",
   "execution_count": null,
   "id": "9dde4991",
   "metadata": {
    "tags": [
     "remove-output"
    ]
   },
   "outputs": [],
   "source": [
    "first = 'UC Berkeley '  # note the trailing space!\n",
    "second = 'is the best!'\n",
    "print(first + second)"
   ]
  },
  {
   "cell_type": "markdown",
   "id": "74d867c1",
   "metadata": {},
   "source": [
    "## Control flow\n",
    "\n",
    "[Back to top](#Contents)\n",
    "\n",
    "Now that we've covered logic, we can move onto some more exciting content: control flow!\n",
    "These are syntactic structures that modify the execution of your Python code . \n",
    "We'll discuss two control flow structures here that you might find helpful and have probably seen in other programming languages.\n",
    "\n",
    "### `if`/`elif`/`else` 🔀\n",
    "\n",
    "These three keywords are used for **conditionals**, which is when your code has some branching logic that executes differently depending the conditions that are satisfied.\n",
    "Conditionals in Python have the following syntax:\n",
    "\n",
    "```python\n",
    "if [Boolean expression]:                        # note the colon!\n",
    "    # do something if True                      # note the indentation by four spaces!\n",
    "elif [another Boolean expression]:              # optional; can also have multiple\n",
    "    # do something else if this part is True    # same amount of indentation\n",
    "else:                                           # all other cases\n",
    "    # do something\n",
    "```\n",
    "\n",
    "A few things to point out:\n",
    "- Conditionals end with a colon `:`. This is just part of the syntax and is different from MATLAB, but also hopefully more clear.\n",
    "- Another strange thing about Python is its reliance on **whitespace** and **indentation**. \n",
    "Note that the stuff \"inside\" each conditional statement is indented (by four spaces) from the beginning. \n",
    "    - It **must be indented**, although you can choose by how much.\n",
    "    Just make sure your choice is _consistent_.\n",
    "    - This is how Python keeps track of everything underneath the `if` statement and whatever is not indented begins the next section (in this case, `elif`).\n",
    "    - There are **no curly braces** in Python, which is what you might be used to if you're coming from Java/C++.\n",
    "- _Protip_: If you want to indent several lines at once, highlight them all and press <kbd>Tab</kbd>.\n",
    "If you want to reduce the indentation (shift them all to the left), highlight them and press <kbd>Shift</kbd>+<kbd>Tab</kbd>."
   ]
  },
  {
   "cell_type": "code",
   "execution_count": null,
   "id": "a82451d6",
   "metadata": {
    "tags": [
     "remove-output"
    ]
   },
   "outputs": [],
   "source": [
    "a = 4  # You can change this and see what happens\n",
    "if a % 2 == 0:\n",
    "    print('Even!')\n",
    "else:\n",
    "    print('Odd!')"
   ]
  },
  {
   "cell_type": "markdown",
   "id": "4d25233e",
   "metadata": {},
   "source": [
    "### `for` loops 🔁\n",
    "\n",
    "The second topic that we will cover is the idea of **loops**, which is when you want to repeat a chunk of code to automate similar tasks.\n",
    "As you probably know from your previous experience, `for` loops are used when you **know** how many times you want to repeat a task.\n",
    "The syntax is \n",
    "```python\n",
    "for i in range(N):\n",
    "    # do something\n",
    "```\n",
    "\n",
    "`range(N)` is another built-in function that creates a collection of integers from `0` to `N-1`, inclusive.\n",
    "Therefore, the body of the loop will execute $N$ times, and each time, the variable `i` will take on a different value from `0` to `N-1`.\n",
    "You can also start at a non-zero integer `M` if you specify it, such as `range(M, N)`.\n",
    "\n",
    "Note also that the body of the `for` loop is **indented**.\n",
    "Everything that is indented will be part of the loop, and as soon as the indentation is removed, the remaining code is outside of the loop."
   ]
  },
  {
   "cell_type": "code",
   "execution_count": null,
   "id": "5aff4f51",
   "metadata": {
    "tags": [
     "remove-output"
    ]
   },
   "outputs": [],
   "source": [
    "for i in range(3):\n",
    "    print(i)   # 0-indexed!"
   ]
  },
  {
   "cell_type": "markdown",
   "id": "91c5307d",
   "metadata": {},
   "source": [
    "## Functions\n",
    "\n",
    "[Back to top](#Contents)\n",
    "\n",
    "Just as variables are excellent at storing data for future, repeated use, **functions** are great at storing _commands_ for future, repeated use.\n",
    "\n",
    "We've already seen a few examples of built-in functions above: `print()`, `type()`, `range(N)`.\n",
    "From these examples, you should notice that functions are called with their name followed by parentheses. \n",
    "Inside the parentheses, there _may or may not be_ **input arguments**.\n",
    "These input arguments can have an implied order, or explicitly called out with keywords.\n",
    "As we go along, we'll see more examples of functions that we can call to help us accomplish certain tasks in Python."
   ]
  },
  {
   "cell_type": "code",
   "execution_count": null,
   "id": "68958962",
   "metadata": {
    "tags": [
     "remove-output"
    ]
   },
   "outputs": [],
   "source": [
    "N = 3\n",
    "for i in range(N):\n",
    "    print(i)\n",
    "print()\n",
    "    \n",
    "for i in range(1, N):\n",
    "    print(i)\n",
    "print()\n",
    "\n",
    "print('Hello', 'there')\n",
    "print('Hello', 'there', sep='\\n')  # Specify an input arg, the delimiter, with newline character"
   ]
  },
  {
   "cell_type": "markdown",
   "id": "2f3d3621",
   "metadata": {},
   "source": [
    "### Writing your own function\n",
    "\n",
    "Sometimes, the function you need hasn't yet been written by someone else, so you need to write your own. \n",
    "To define a new function in Python, we use the following syntax:\n",
    "```python\n",
    "def function_name(arg1, arg2, ...):\n",
    "    # function body; do something here, such as\n",
    "    return 'Hello, World!'\n",
    "```\n",
    "\n",
    "A couple things to point out:\n",
    "- All function headers start with the keyword `def` and a space.\n",
    "- Then comes the name of the function, which like variable names, should be descriptive.\n",
    "- Functions can have **zero or more** input arguments in parentheses that can then be used in the body of the function.\n",
    "- Function headers end with a colon `:`.\n",
    "- The body (contents) of the function is **indented**.\n",
    "- The function may or may not `return` a value.\n",
    "If you want to use the values computed by the caller of the function, you have to include a `return` statement and save the returned value(s) inside variables."
   ]
  },
  {
   "cell_type": "markdown",
   "id": "d6fccab8",
   "metadata": {},
   "source": [
    "## Lists\n",
    "\n",
    "[Back to top](#Contents)\n",
    "\n",
    "Whew, believe it or not, the fun is just beginning! 😁\n",
    "So far we've covered variables, data types, control flow, and functions.\n",
    "A natural next question to ask is what should we do if we have several pieces of data? \n",
    "Do we create a variable for each one? \n",
    "Or is there somewhere we can _store_ the collection of data for later access?\n",
    "This means it's time to discuss **data structures**, and here we will cover **lists** (and a little bit more on strings) and **dictionaries**.\n",
    "\n",
    "A `list` is an **ordered** data structure that stores a sequence of values.\n",
    "The elements are contained within square brackets `[...]` and separated by commas `,`.\n",
    "The values in a `list` can have _different types_, and they can even be lists themselves.\n",
    "We'll start by creating a few lists by hand."
   ]
  },
  {
   "cell_type": "code",
   "execution_count": null,
   "id": "45549822",
   "metadata": {
    "tags": [
     "remove-output"
    ]
   },
   "outputs": [],
   "source": [
    "empty = []                                                # an empty list (no elements)\n",
    "num = [1, 2, 4, 123]                                      # a list of ints\n",
    "materials = ['metals', 'semiconductors', 'insulators']    # a list of strings\n",
    "mixed = [False, 1, 'two', 3.0, [4, 5]]                    # a list of many DIFFERENT data types\n",
    "print(mixed)                                              # lists are printed as: [elem1, elem2, ...]"
   ]
  },
  {
   "cell_type": "markdown",
   "id": "0a0d2ffd",
   "metadata": {},
   "source": [
    "### Quick exercise: Name all the data types/classes of the elements in the list named `mixed` above\n",
    "\n",
    "There is yet another handy built-in function, `len()`, that returns the length of a list (number of elements in the list).\n",
    "We often use this number to figure out the size of our dataset, set the `range()` function in a `for` loop, and perform arithmetic.\n",
    "\n",
    "\n",
    "### Quick exercise: Below, print the length of the list `mixed`\n",
    "\n",
    "Before you write the one line of code below, we ask you to think about it: **Will the length be 5 or 6**? Why?\n",
    "\n",
    "Also, you can directly use the `mixed` variable below, and it will have the same value as the `mixed` variable from above (you don't have to initialize it again).\n",
    "Variables in code cells, after being executed, will persist and can be used in other code cells.\n",
    "Nice."
   ]
  },
  {
   "cell_type": "code",
   "execution_count": null,
   "id": "bd8caee3",
   "metadata": {
    "tags": [
     "remove-output"
    ]
   },
   "outputs": [],
   "source": [
    "# -------------   WRITE YOUR CODE IN THE SPACE BELOW   ---------- #\n"
   ]
  },
  {
   "cell_type": "markdown",
   "id": "e0acda39",
   "metadata": {},
   "source": [
    "**Note**: The `print` statement above contains an **f-string**, which is very cool.\n",
    "It allows us to include other data types within strings, as long as we enclose that quantity inside `{}` and preface the string with an `f` character.\n",
    "Note that the quantity inside the `{}` can even be an expression that's evaluated on-the-fly!"
   ]
  },
  {
   "cell_type": "markdown",
   "id": "9c9c41e6",
   "metadata": {},
   "source": [
    "### Accessing list elements\n",
    "\n",
    "We can access the elements of a list by specifying the appropriate **index**, which must be an `int`.\n",
    "In Python, `list`s (and other data structures) are **indexed starting at 0**. \n",
    "This is like most other programming languages, but it _notably differs from MATLAB_, so beware!\n",
    "\n",
    "The syntax is as follows:\n",
    "```python\n",
    "my_list[ind]\n",
    "```\n",
    "\n",
    "We can also index a list starting from the end if we use a negative index. \n",
    "But we cannot specify an index that is outside the \"bounds\" of the list.\n",
    "Examples include:"
   ]
  },
  {
   "cell_type": "code",
   "execution_count": null,
   "id": "007c202e",
   "metadata": {
    "tags": [
     "remove-output"
    ]
   },
   "outputs": [],
   "source": [
    "core = [102, 103, 104, 111, 112, 113, 130, 151]\n",
    "print(f'The first course is {core[0]}.')\n",
    "print(f'The third course is {core[2]}.')\n",
    "print(f'The last course is {core[-1]}.')\n",
    "print(f'The 9th student is {core[8]}.')    # error!"
   ]
  },
  {
   "cell_type": "markdown",
   "id": "feb1d3d3",
   "metadata": {},
   "source": [
    "We can also take **slices** of a list, which is a subset of elements, using the following syntax:\n",
    "```python\n",
    "my_list[start:stop:(every)]\n",
    "```\n",
    "\n",
    "The three input arguments (which are of `int` type) are:\n",
    "- `start`: The index to start the slice at. Inclusive.\n",
    "- `stop`: The index to stop the slice at. _Exclusive_.\n",
    "- `every`: Optional number to specify the frequency of skipping elements. Default is `1` (don't skip any).\n",
    "\n",
    "There are also some sneaky tricks if some of these are omitted, as shown below:"
   ]
  },
  {
   "cell_type": "code",
   "execution_count": null,
   "id": "3b15a976",
   "metadata": {
    "tags": [
     "remove-output"
    ]
   },
   "outputs": [],
   "source": [
    "print(core[2:5])   # 3rd, 4th, 5th course; does not include index 5!\n",
    "print(core[3:])    # all courses from the 4th to the end\n",
    "print(core[:-1])   # all except the last course\n",
    "print(core[0::2])  # skip every other course\n",
    "print(core[::-1])  # reverse the list!"
   ]
  },
  {
   "cell_type": "markdown",
   "id": "986bc3ce",
   "metadata": {},
   "source": [
    "We can also access the elements of a `list` using a variant called a **for-each** loop.\n",
    "This actually has the exact same syntax as the regular `for` loop, but instead of the index variable (e.g., `i`) taking on numerical values in a range (e.g., `0`, `1`, `2`, ...), the index variable tracks each value in the `list`.\n",
    "The syntax is as follows:\n",
    "```python\n",
    "for val in my_list:\n",
    "    # do something with each val\n",
    "```\n",
    "\n",
    "### Quick exercise: write a for-each loop to print out each course's number"
   ]
  },
  {
   "cell_type": "code",
   "execution_count": null,
   "id": "716d1bd1",
   "metadata": {
    "tags": [
     "remove-output"
    ]
   },
   "outputs": [],
   "source": [
    "# -------------   WRITE YOUR CODE IN THE SPACE BELOW   ---------- #\n"
   ]
  },
  {
   "cell_type": "markdown",
   "id": "ffe24494",
   "metadata": {},
   "source": [
    "### List functions and methods\n",
    "\n",
    "And the fun just doesn't stop!\n",
    "Lists honestly are probably the most powerful data structures in Python.\n",
    "They have some [pretty cool functions](https://www.softwaretestinghelp.com/python-list-functions/) and methods associated with them, and we only have time to discuss a few here.\n",
    "\n",
    "We've already seen one function which is `len()` that returns the number of elements in the list.\n",
    "Some other handy functions include `sum()`, `max()`, and `min()` if your list has numeric elements.\n",
    "`sorted()` is another function that takes your list and _returns_ a sorted list with the same elements in increasing order.\n",
    "These are all functions that take the list as an _input argument_."
   ]
  },
  {
   "cell_type": "code",
   "execution_count": null,
   "id": "42e93d44",
   "metadata": {
    "tags": [
     "remove-output"
    ]
   },
   "outputs": [],
   "source": [
    "print(f'The min and max are {min(core)} and {max(core)}, respectively.')\n",
    "core_sorted = sorted(core, reverse=True)   # a keyword argument!\n",
    "print(f'The sorted list is: {core_sorted}')"
   ]
  },
  {
   "cell_type": "markdown",
   "id": "b9393162",
   "metadata": {},
   "source": [
    "## Dictionaries\n",
    "\n",
    "[Back to top](#Contents)\n",
    "\n",
    "Lists are nice when we want to organize our data and access them later using an index.\n",
    "But there are times when we want to have a different data access pattern.\n",
    "For example, if we wanted to get chemical data on the elements, we're never really going to say, \"Oh I want to access the fifth property of the third element;\" but rather, \"What is the atomic mass of lithium?\"\n",
    "\n",
    "This calls for a new data structure!\n",
    "**Dictionary** (`dict` class) is a data structure that contains a collection of `key:value` pairs.\n",
    "It is, just like a dictionary, a mapping between a particular `key` (like a word) to its associated `value` (like a definition).\n",
    "They are created using curly braces `{}` and the entries are comma-separated tokens of `key`:`value` pairs separated by **colons**.\n",
    "Examples include:"
   ]
  },
  {
   "cell_type": "code",
   "execution_count": null,
   "id": "e820f1e8",
   "metadata": {
    "tags": [
     "remove-output"
    ]
   },
   "outputs": [],
   "source": [
    "empty = {}      # the empty dictionary\n",
    "schools = {'UC Berkeley':1, 'UCLA':2, 'Stanford':2}   # values can repeat; keys cannot!\n",
    "band_gaps = {'copper':0, 'silicon':1.1, 'diamond':5.0}\n",
    "props = {'lithium':{'number':3, 'mass':6.941, 'group':'alkali metal'}}   # nested dictionary with many types!"
   ]
  },
  {
   "cell_type": "markdown",
   "id": "ea14a7c8",
   "metadata": {},
   "source": [
    "### Access entries\n",
    "\n",
    "To access individual entries of the dictionary, use the syntax\n",
    "```python\n",
    "my_dict[key]\n",
    "```\n",
    "to get the `value` associated with the `key`.\n",
    "Just like with lists, the syntax is the same for getting the value and for setting the value (`dict`s, like `list`s, are _mutable_).\n",
    "\n",
    "\n",
    "### Adding new entries\n",
    "\n",
    "To add an entry to a dictionary, we specify a new `key`:`value` pair:"
   ]
  },
  {
   "cell_type": "code",
   "execution_count": null,
   "id": "8ead4d13",
   "metadata": {
    "tags": [
     "remove-output"
    ]
   },
   "outputs": [],
   "source": [
    "band_gaps['germanium'] = 0.67   # new entry!\n",
    "band_gaps['copper'] = 0.0       # this overrides the old entry! Now float instead of int\n",
    "print(band_gaps)"
   ]
  },
  {
   "cell_type": "markdown",
   "id": "187018bd",
   "metadata": {},
   "source": [
    "A few notes on dictionaries in Python:\n",
    "- The keys of a dictionary **must be unique**. \n",
    "Otherwise you can imagine how confusing it is for two keys to map to different values.\n",
    "Multiple keys can have the same value though.\n",
    "- What can the `key` be?\n",
    "The key can be any type that is _immutable_. \n",
    "- What can the `value` be?\n",
    "Essentially unrestricted—they can even be other dictionaries!\n",
    "- We stressed with `list`s how they have the nice property of being ordered. \n",
    "`dict`s in Python, for the most part, _are not ordered_. \n",
    "So there's no real sense of \"the first entry\" or \"the second-to-last entry\" in the dictionary."
   ]
  },
  {
   "cell_type": "markdown",
   "id": "312fbd89",
   "metadata": {},
   "source": [
    "## The NumPy package\n",
    "\n",
    "[Back to top](#Contents)\n",
    "\n",
    "So far, everything that we've done is with native Python; in other words, the functions and data that come with the default Python installation.\n",
    "However, one of the advantages of Python is its **extensibility**, which comes in the form of various **packages** (i.e., libraries) that allow you to do more with Python.\n",
    "A default Python installation comes with a few extra packages installed, while others you have to install on your own.\n",
    "\n",
    "In all cases, before you can use the functions inside a package, you have to **import** it like the following example:"
   ]
  },
  {
   "cell_type": "code",
   "execution_count": null,
   "id": "564f1c3a",
   "metadata": {
    "tags": [
     "remove-output"
    ]
   },
   "outputs": [],
   "source": [
    "import os            # this package allows your code to interface with your operating system\n",
    "print(os.getcwd())   # this is a function from the os package. We include the package namespace"
   ]
  },
  {
   "cell_type": "markdown",
   "id": "1d5e6cbf",
   "metadata": {},
   "source": [
    "You'll notice that in the above example, we had to type `os.function_name()` to use any function from the `os` package.\n",
    "This will be true for all packages.\n",
    "However, if the specific function is one that we use frequently, we can directly import it too, using:\n",
    "```python\n",
    "from package import function_1_name, function_2_name, ...\n",
    "```"
   ]
  },
  {
   "cell_type": "code",
   "execution_count": null,
   "id": "3a8ba62e",
   "metadata": {
    "tags": [
     "remove-output"
    ]
   },
   "outputs": [],
   "source": [
    "from os import getcwd\n",
    "print(getcwd())    # now we don't need the \"os.\" prefix"
   ]
  },
  {
   "cell_type": "markdown",
   "id": "32312cd4",
   "metadata": {},
   "source": [
    "### Import NumPy\n",
    "\n",
    "In this last section, we'll be using the [NumPy package](https://numpy.org/) to do some basic scientific computing in Python.\n",
    "On JupyterHub, Colab, and several other places, it comes preinstalled. 🙌🏼\n",
    "To import the NumPy package, it is best practice to actually give it an **alias**. \n",
    "These are abbreviations that typically allow you to reference the package with fewer characters, resulting in cleaner code if you have to call the package _a lot_, which is typically the case with NumPy.\n",
    "The syntax for an alias is:\n",
    "```python\n",
    "import standard_package_name_that_could_be_really_long as short_alias\n",
    "```"
   ]
  },
  {
   "cell_type": "code",
   "execution_count": null,
   "id": "fb40c04b",
   "metadata": {
    "tags": [
     "remove-output"
    ]
   },
   "outputs": [],
   "source": [
    "import numpy as np    # not too much shorter, but this is best practice"
   ]
  },
  {
   "cell_type": "markdown",
   "id": "e99d6dc7",
   "metadata": {},
   "source": [
    "### NumPy arrays\n",
    "\n",
    "At the heart of NumPy is the **NumPy array**, which is used to store data into a structured format with multiple dimensions.\n",
    "You will find that these arrays function very similarly to arrays in MATLAB!\n",
    "In fact, the NumPy developers even created [a comparison chart](https://numpy.org/doc/stable/user/numpy-for-matlab-users.html) for you.\n",
    "\n",
    "Depending on the dimensionality, these arrays correspond to our conventional notion of scalars (0D), vectors (1D), matrices (2D), and tensors (3D+), and this is described by their `shape` attribute.\n",
    "Each available dimension of the specific array is called an `axis`, which is how we index into them and it factors into certain calculations.\n",
    "Here's an illustration:\n",
    "\n",
    "![NumPy arrays](../assets/fig/numpy_arrays.png)"
   ]
  },
  {
   "cell_type": "markdown",
   "id": "c55cc4ff",
   "metadata": {},
   "source": [
    "To create NumPy arrays, we actually have [several options](https://numpy.org/doc/stable/reference/routines.array-creation.html).\n",
    "One of the most straightforward ways, given how arrays look so similar to lists, is to convert a list into an array using the function [`np.array(my_list)`](https://numpy.org/doc/stable/reference/generated/numpy.array.html).\n",
    "\n",
    "The resulting NumPy array is a unique object and also stores its [data type](https://numpy.org/doc/stable/user/basics.types.html), which can be accessed using the `array.dtype` **attribute**."
   ]
  },
  {
   "cell_type": "code",
   "execution_count": null,
   "id": "c8dca1d6",
   "metadata": {
    "tags": [
     "remove-output"
    ]
   },
   "outputs": [],
   "source": [
    "primes_list = [2, 3, 5, 7, 11, 13]           # original data as list of int\n",
    "primes_arr = np.array(primes_list)           # convert to NumPy array of int\n",
    "primes_str = [str(p) for p in primes_list]   # change data to str by casting\n",
    "primes_str_arr = np.array(primes_str)        # convert to NumPy array of str\n",
    "\n",
    "print(f'Regular list: {primes_list}')\n",
    "print(type(primes_list), '\\n')\n",
    "\n",
    "print(f'NumPy array: {primes_arr}')\n",
    "print(type(primes_arr))\n",
    "print(f'This array has data type: {primes_arr.dtype}', '\\n')\n",
    "\n",
    "print(primes_str_arr)\n",
    "print(type(primes_str_arr))\n",
    "print(f'This array has data type: {primes_str_arr.dtype}')"
   ]
  },
  {
   "cell_type": "markdown",
   "id": "8db005f1",
   "metadata": {},
   "source": [
    "Notice how a single list gave us a 1D array (like a **vector**), so as you might imagine, a _nested list of lists_ will give us a 2D array, or a **matrix**, when we call `np.array(my_list_of_lists)` on it.\n",
    "This will only work when the dimensions of the nested lists are consistent.\n",
    "\n",
    "### Quick exercise: given `num` below, create a 2D NumPy array. Print the array to observe the formatting.\n",
    "\n",
    "We can also verify that the array is 2D when we print out its `shape` attribute, which now has two terms `(2, 3)`."
   ]
  },
  {
   "cell_type": "code",
   "execution_count": null,
   "id": "d5b6a340",
   "metadata": {
    "tags": [
     "remove-output"
    ]
   },
   "outputs": [],
   "source": [
    "num = [[1, 2, 3], [4, 5, 6]]   # after your code works, delete the 6 and run it again\n",
    "# -------------   WRITE YOUR CODE IN THE SPACE BELOW   ---------- #\n"
   ]
  },
  {
   "cell_type": "markdown",
   "id": "8917393f",
   "metadata": {},
   "source": [
    "### Creating NumPy arrays\n",
    "\n",
    "There are [many more ways to create NumPy arrays](https://numpy.org/doc/stable/reference/routines.array-creation.html), and we'll demonstrate a few here.\n",
    "\n",
    "In 1D, there are two primary methods we use to create arrays.\n",
    "There is a [`np.arange()`](https://numpy.org/doc/stable/reference/generated/numpy.arange.html) function that works analogously to the `range()` function we saw with `for` loops.\n",
    "It generates a sequence of integers from the starting number (inclusive) to the ending number (exclusive).\n",
    "\n",
    "There is also a [`np.linspace(start, stop, num_points)`](https://numpy.org/doc/stable/reference/generated/numpy.linspace.html) function that works analogously to `linspace()` in MATLAB.\n",
    "This generates a NumPy array of length `num_points` with evenly-spaced points between `start` and `stop`, both inclusive.\n",
    "\n",
    "Note that both functions require specifying the `np` package prefix.\n",
    "\n",
    "\n",
    "### Quick exercise: create the following 1D arrays\n",
    "\n",
    "- A [range of integers](https://numpy.org/doc/stable/reference/generated/numpy.arange.html) from 0 to 99, inclusive.\n",
    "- An array of 15 [evenly-spaced numbers](https://numpy.org/doc/stable/reference/generated/numpy.linspace.html) from 0 to 50, inclusive.\n"
   ]
  },
  {
   "cell_type": "code",
   "execution_count": null,
   "id": "875ab1d5",
   "metadata": {
    "tags": [
     "remove-output"
    ]
   },
   "outputs": [],
   "source": [
    "# -------------   WRITE YOUR CODE IN THE SPACE BELOW   ---------- #\n"
   ]
  },
  {
   "cell_type": "markdown",
   "id": "cd505b14",
   "metadata": {},
   "source": [
    "### Creating an array from a text file\n",
    "\n",
    "There is an [`np.loadtxt()`](https://numpy.org/doc/stable/reference/generated/numpy.loadtxt.html) function that can read in text files that are formatted with an array structure.\n",
    "For example, if you had a file with the following contents:\n",
    "```\n",
    "0.000,0.000000\n",
    "0.001,0.000100\n",
    "0.002,0.000399\n",
    "0.003,0.000897\n",
    "0.004,0.001594\n",
    "...\n",
    "```\n",
    "it would certainly be convenient to directly load the contents of this file into a 2D NumPy array with two columns.\n",
    "The [`np.loadtxt()`](https://numpy.org/doc/stable/reference/generated/numpy.loadtxt.html) function takes the following input arguments (more arguments can be found in the linked documentation):\n",
    "- `fname`: The name of the text file (required).\n",
    "- `delimiter`: The token that separates the different elements. Default is space `None` but you might need comma `','` or something else.\n",
    "- `skiprows`: Helpful if there are extraneous lines at the beginning of your file. Default is `0` if not specified (i.e., start from the top).\n",
    "- `max_rows`: Helpful if there are extraneous lines at the end of your file. Default is `None` if not specified (i.e., read the whole file to the last line)."
   ]
  },
  {
   "cell_type": "code",
   "execution_count": null,
   "id": "c22faad0",
   "metadata": {
    "tags": [
     "remove-output"
    ]
   },
   "outputs": [],
   "source": [
    "arr = np.loadtxt('np_txt_demo.txt', delimiter=',')\n",
    "arr"
   ]
  },
  {
   "cell_type": "markdown",
   "id": "019f6466",
   "metadata": {},
   "source": [
    "## Conclusion\n",
    "\n",
    "[Back to top](#Contents)\n",
    "\n",
    "Ta-da! 🎉\n",
    "We will be relying on this function heavily in this lab. Stay tuned.\n",
    "\n",
    "Otherwise, that concludes this abbreviated whirlwind introduction to Python. \n",
    "The next notebook is also a tutorial—on plotting data—and it will apply the knowledge presented here, assuming that you are at least somewhat familiar with all of these concepts."
   ]
  }
 ],
 "metadata": {
  "celltoolbar": "Tags",
  "kernelspec": {
   "display_name": "Python 3",
   "language": "python",
   "name": "python3"
  },
  "language_info": {
   "codemirror_mode": {
    "name": "ipython",
    "version": 3
   },
   "file_extension": ".py",
   "mimetype": "text/x-python",
   "name": "python",
   "nbconvert_exporter": "python",
   "pygments_lexer": "ipython3",
   "version": "3.8.8"
  }
 },
 "nbformat": 4,
 "nbformat_minor": 5
}
