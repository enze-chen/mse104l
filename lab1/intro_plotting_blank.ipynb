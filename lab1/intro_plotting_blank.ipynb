{
 "cells": [
  {
   "cell_type": "markdown",
   "id": "da4c4cef",
   "metadata": {},
   "source": [
    "# Introduction to data visualization in Python\n",
    "\n",
    "*Authors: Enze Chen and Andrew Minor (University of California, Berkeley)*\n",
    "\n",
    "```{note}\n",
    "This is an interactive exercise, so you will want to click the {fa}`rocket` and open the notebook in DataHub (or Colab for non-UCB students).\n",
    "```\n",
    "\n",
    "This notebook contains a series of exercises that introduces data visualization using the [Matplotlib package](https://matplotlib.org/stable/index.html) to create plots in Python.\n",
    "Why do we care about compelling visualizations? \n",
    "Here are some reasons we can come up with:\n",
    "- Important for scientific communication\n",
    "- Important for data literacy\n",
    "- Visualizing trends in the data\n",
    "- Reveals more than summary statistics\n",
    "- Uncovers underlying structure\n",
    "- Aids data interpretation"
   ]
  },
  {
   "cell_type": "markdown",
   "id": "3722ac1b",
   "metadata": {},
   "source": [
    "## Contents\n",
    "\n",
    "1. [Intro](#Intro-to-Matplotlib)\n",
    "1. [Style](#Stylistic-improvements)"
   ]
  },
  {
   "cell_type": "markdown",
   "id": "a2412bb6",
   "metadata": {},
   "source": [
    "## Intro to Matplotlib\n",
    "\n",
    "[Back to top](#Contents)\n",
    "\n",
    "In Python, there are many packages for data visualization, each with their own merits, but the base package that many of them are based off of is [**Matplotlib**](https://matplotlib.org/stable/index.html), which is now quite ubiquitous and integrates well with NumPy.\n",
    "\n",
    "You might read the name \"Matplotlib\" and think, \"Hey, that kinda sounds like MATLAB.\"\n",
    "Well, you'd be right, since many aspects of Matplotlib were first developed to emulate MATLAB and the **Pyplot** module was purposely designed to give a MATLAB-like way of plotting.\n",
    "This allows us to get high-quality graphics (like MATLAB) while obeying Pythonic principles. 🐍\n",
    "\n",
    "To use Pyplot, we write the following import statement and alias, which is a community standard:"
   ]
  },
  {
   "cell_type": "code",
   "execution_count": null,
   "id": "756da698",
   "metadata": {},
   "outputs": [],
   "source": [
    "import matplotlib.pyplot as plt   # standard alias\n"
   ]
  },
  {
   "cell_type": "markdown",
   "id": "2dd30c04",
   "metadata": {},
   "source": [
    "### Create Figure and Axes objects\n",
    "\n",
    "**Step 1**: There are many ways to create figures using Pyplot, but in true OOP fashion, the **best practice** is to create [`Figure`](https://matplotlib.org/stable/api/figure_api.html#matplotlib.figure.Figure) and [`Axes`](https://matplotlib.org/stable/api/axes_api.html#matplotlib.axes.Axes) objects using the [`plt.subplots()`](https://matplotlib.org/stable/api/_as_gen/matplotlib.pyplot.subplots.html) function like so:\n",
    "```python\n",
    "fig, ax = plt.subplots()\n",
    "```\n",
    "\n",
    "The `Figure` (`fig` variable) is the top-level container for all plot elements while the `Axes` (`ax` variable) is the object for a particular plot.\n",
    "`plt.subplots()` creates both of these objects, which we then assign to the variables on the left.\n",
    "Imagine this step as the IRL-equivalent of saying, \"Before we can paint a painting, we must fetch a new canvas.\"\n",
    "\n",
    "**Step 2**: To make a plot, we can call a method like [`ax.plot(x, y)`](https://matplotlib.org/stable/api/_as_gen/matplotlib.axes.Axes.plot.html) **directly using the `Axes` object**—_not_ `fig` or `plt`.\n",
    "This standard method plots $y$ vs. $x$ points and, by default, connects the points with lines in the order that they're plotted.\n",
    "Note the syntax for `ax.plot()` is a list (or array) of $x$-coordinates and _then_ a list of $y$-coordinates, **not** a list of $(x,y)$ pairs.\n",
    "\n",
    "**Step 3**: Finally, and perhaps unintuitively, we have to call [`plt.show()`](https://matplotlib.org/stable/api/_as_gen/matplotlib.pyplot.show.html) to actually display the plot.\n",
    "Matplotlib can be quite literal!\n",
    "As we shall soon see, this is also what makes it shine. 💖\n",
    "\n",
    "----\n",
    "\n",
    "We've done too much talking, so let's put this into practice!\n",
    "Here's a few lines of code to plot $y = x ^ 2$ for the first five positive integers."
   ]
  },
  {
   "cell_type": "code",
   "execution_count": null,
   "id": "0e27b4e5",
   "metadata": {
    "tags": [
     "remove-output"
    ]
   },
   "outputs": [],
   "source": [
    "fig, ax = plt.subplots()\n",
    "ax.plot([1, 2, 3, 4, 5], [1, 4, 9, 16, 25])\n",
    "plt.show()"
   ]
  },
  {
   "cell_type": "markdown",
   "id": "8d963bd9",
   "metadata": {},
   "source": [
    "Neat!\n",
    "\n",
    "We will now show you something slightly cooler by reading in some data using NumPy and plotting the columns of the NumPy array.\n",
    "This utilizes the [`np.loadtxt()`](https://numpy.org/doc/stable/reference/generated/numpy.loadtxt.html) function and [array slicing](https://numpy.org/doc/stable/user/absolute_beginners.html?highlight=slice#indexing-and-slicing)."
   ]
  },
  {
   "cell_type": "code",
   "execution_count": null,
   "id": "dcfef4dd",
   "metadata": {
    "tags": [
     "remove-output"
    ]
   },
   "outputs": [],
   "source": [
    "sin = np.loadtxt('sine.txt', delimiter=',')   # we created this file for you\n",
    "fig, ax = plt.subplots()\n",
    "ax.plot(sin[:, 0], sin[:, 1])   # first column has x values, second column y values\n",
    "plt.show()"
   ]
  },
  {
   "cell_type": "markdown",
   "id": "8dbc9ae3",
   "metadata": {},
   "source": [
    "### Exercise: Write some code to plot the cosine function\n",
    "\n",
    "The data are already stored in `cosine.txt`, which is analogous in structure to `sine.txt` in the above example.\n",
    "First plot it by itself; then, can you plot sine and cosine on the same plot?"
   ]
  },
  {
   "cell_type": "code",
   "execution_count": null,
   "id": "9986847e",
   "metadata": {
    "tags": [
     "remove-output"
    ]
   },
   "outputs": [],
   "source": [
    "# -------------   WRITE YOUR CODE IN THE SPACE BELOW   ---------- #\n"
   ]
  },
  {
   "cell_type": "markdown",
   "id": "3b6fbac7",
   "metadata": {},
   "source": [
    "### Saving your plots\n",
    "\n",
    "To save the figures that you've created so you can download them and add them to your lab writeup, we can use the `Figure.savefig()` method.\n",
    "This function has a lot of input arguments, so we'll point out just a few:\n",
    "- `fname`: The name of the file as a `str`. We suggest adding the file extension _explicitly_, like `my_picture.png`.\n",
    "- `dpi`: Short for \"dots per inch.\" We suggest `300` as a good standard (default is `100` which might get grainy).\n",
    "- `bbox_inches`: Some extra padding, and we advise `tight` for a streamlined look.\n",
    "\n",
    "The figure is saved into the same location as your notebook, so this is the corresponding folder in the JupyterHub if you wish to download it (see [Usage](https://enze-chen.github.io/mse104l/jbook_usage.html) page for instructions)."
   ]
  },
  {
   "cell_type": "code",
   "execution_count": null,
   "id": "965c7e65",
   "metadata": {
    "tags": [
     "remove-output"
    ]
   },
   "outputs": [],
   "source": [
    "sin = np.loadtxt('sine.txt', delimiter=',')\n",
    "fig, ax = plt.subplots()\n",
    "ax.plot(sin[:, 0], sin[:, 1])\n",
    "plt.show()\n",
    "fig.savefig('sine.png', dpi=300, bbox_inches='tight')"
   ]
  },
  {
   "cell_type": "markdown",
   "id": "38cd1697",
   "metadata": {},
   "source": [
    "## Stylistic improvements\n",
    "\n",
    "[Back to top](#Contents)\n",
    "\n",
    "We're off to a great start, but there are some basic visualization principles that are violated in the above plots, particularly if you had sine and cosine on the same plot.\n",
    "A few things that we can think of right now:\n",
    "- Adding axes labels\n",
    "- Making the font bigger\n",
    "- Making the lines thicker\n",
    "- Changing the figure size\n",
    "- Adding a legend to differentiate plot elements\n",
    "\n",
    "The code below addresses some of these issues using a combination of:\n",
    "- [`ax.set()`](https://matplotlib.org/stable/api/_as_gen/matplotlib.axes.Axes.set.html) method.\n",
    "- [`ax.legend()`](https://matplotlib.org/stable/api/_as_gen/matplotlib.axes.Axes.legend.html) and the `label` keyword.\n",
    "- [Line properties](https://matplotlib.org/stable/api/_as_gen/matplotlib.lines.Line2D.html#matplotlib.lines.Line2D) in [`ax.plot()`](https://matplotlib.org/stable/api/_as_gen/matplotlib.axes.Axes.plot.html), namely `lw` (linewidth).\n",
    "- [Figure properties](https://matplotlib.org/stable/api/_as_gen/matplotlib.pyplot.figure.html#matplotlib.pyplot.figure) in [`plt.subplots()`](https://matplotlib.org/stable/api/_as_gen/matplotlib.pyplot.subplots.html), namely `figsize` (width, height)."
   ]
  },
  {
   "cell_type": "code",
   "execution_count": null,
   "id": "3f1153a8",
   "metadata": {
    "scrolled": true,
    "tags": [
     "remove-output"
    ]
   },
   "outputs": [],
   "source": [
    "sin = np.loadtxt('sine.txt', delimiter=',')\n",
    "fig, ax = plt.subplots(figsize=(4,3))   # we made the plot smaller; you can make yours whatever\n",
    "ax.plot(sin[:, 0], sin[:, 1], lw=4, label='sine')   # pay attention here\n",
    "ax.set(xlabel='x', ylabel='f(x)')\n",
    "ax.legend()   # without this the legend doesn't appear!\n",
    "plt.show()"
   ]
  },
  {
   "cell_type": "markdown",
   "id": "793a7cb0",
   "metadata": {},
   "source": [
    "### Exercise: Plot sine and cosine on the same plot and incorporate the stylistic changes\n",
    "\n",
    "Note that each call to `ax.plot()` needs a `label` for it to appear in the legend.\n",
    "You should find that each call to `plot()` will automatically change the color of the points that are displayed!"
   ]
  },
  {
   "cell_type": "code",
   "execution_count": null,
   "id": "48ed441d",
   "metadata": {
    "tags": [
     "remove-output"
    ]
   },
   "outputs": [],
   "source": [
    "# -------------   WRITE YOUR CODE IN THE SPACE BELOW   ---------- #\n"
   ]
  },
  {
   "cell_type": "markdown",
   "id": "bafb4a6d",
   "metadata": {},
   "source": [
    "### Making global/persistent changes\n",
    "\n",
    "We'll conclude with a protip.\n",
    "If you did the above exercises, you may have noticed a few repetitive moments. \n",
    "Perhaps you had to specify the linewidth each time you called `ax.plot()`, or had to adjust the figure size every time.\n",
    "It would be nice if we could change the default Pyplot settings so we automatically get some of these improvements every time we make a new plot.\n",
    "\n",
    "Luckily, we can do that, through `plt.rcParams.update(params)`, which takes in a dictionary of `params` that we want to modify.\n",
    "Note that there are [_a ton_](https://matplotlib.org/stable/tutorials/introductory/customizing.html#the-default-matplotlibrc-file) of options, so we'll just list some notable ones here that Enze likes.\n",
    "Obviously, you can also set your own.\n",
    "\n",
    "Note also that we have to run this command at the **beginning of every Jupyter notebook**—but then we get the benefits for the rest of the notebook!"
   ]
  },
  {
   "cell_type": "code",
   "execution_count": null,
   "id": "573482a5",
   "metadata": {},
   "outputs": [],
   "source": [
    "plt.rcParams.update({\n",
    "    'figure.figsize': (5, 4),   # XRD spectra could be wider (e.g., full page width)\n",
    "    'font.size':        18,     # very important!\n",
    "    'lines.linewidth':   4,     # good for visuals\n",
    "    'lines.markersize': 10,     # in case you have scatter plots\n",
    "    'axes.linewidth':    2,     # the axes should also be more visible!\n",
    "    'xtick.major.size':  8,     # same for ticks!\n",
    "    'xtick.major.width': 2,\n",
    "    'ytick.major.size':  8,\n",
    "    'ytick.major.width': 2\n",
    "})"
   ]
  },
  {
   "cell_type": "markdown",
   "id": "7d6abb95",
   "metadata": {},
   "source": [
    "Now let's make another sine curve and see how these changes are automatically applied."
   ]
  },
  {
   "cell_type": "code",
   "execution_count": null,
   "id": "321a2251",
   "metadata": {
    "tags": [
     "remove-output"
    ]
   },
   "outputs": [],
   "source": [
    "sin = np.loadtxt('sine.txt', delimiter=',')\n",
    "fig, ax = plt.subplots()\n",
    "ax.plot(sin[:, 0], sin[:, 1], label='sine')\n",
    "ax.set(xlabel='x', ylabel='f(x)')\n",
    "ax.legend()\n",
    "plt.show()\n",
    "fig.savefig('sine_updated.png', dpi=300, bbox_inches='tight')"
   ]
  },
  {
   "cell_type": "markdown",
   "id": "9aece2b5",
   "metadata": {},
   "source": [
    "## Conclusion\n",
    "\n",
    "[Back to top](#Contents)\n",
    "\n",
    "This concludes the introduction to plotting in Matplotlib.\n",
    "You should have enough tools to get started with analyzing your own data (which you can upload to JupyterHub).\n",
    "The subsequent notebook will guide you through some of the analysis and discuss further Matplotlib improvements.\n",
    "We hope you enjoy!"
   ]
  }
 ],
 "metadata": {
  "celltoolbar": "Tags",
  "kernelspec": {
   "display_name": "Python 3",
   "language": "python",
   "name": "python3"
  },
  "language_info": {
   "codemirror_mode": {
    "name": "ipython",
    "version": 3
   },
   "file_extension": ".py",
   "mimetype": "text/x-python",
   "name": "python",
   "nbconvert_exporter": "python",
   "pygments_lexer": "ipython3",
   "version": "3.8.8"
  }
 },
 "nbformat": 4,
 "nbformat_minor": 5
}
