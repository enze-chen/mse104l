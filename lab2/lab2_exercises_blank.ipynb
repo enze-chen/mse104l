{
 "cells": [
  {
   "cell_type": "markdown",
   "id": "da4c4cef",
   "metadata": {},
   "source": [
    "# MSE 104L laboratory 2 exercises\n",
    "\n",
    "*Authors: Enze Chen and Andrew Minor (University of California, Berkeley)*\n",
    "\n",
    "```{note}\n",
    "This is an interactive exercise, so you will want to click the {fa}`rocket` and open the notebook in DataHub (or Colab for non-UCB students).\n",
    "```\n",
    "\n",
    "This notebook contains a series of exercises to help you process your data from Lab 2. \n",
    "It doesn't answer all of the discussion questions in the lab procedures, but it will help you create a series of figures that can structure the narrative of your lab report.\n",
    "We certainly believe it will lead to a higher grade!\n",
    "\n",
    "We tried to stagger the guidance such that each exercise only introduces 1-2 new ideas at a time.\n",
    "These new ideas are marked with a ⭐."
   ]
  },
  {
   "cell_type": "markdown",
   "id": "2663c980",
   "metadata": {},
   "source": [
    "## Import Python packages\n",
    "\n",
    "It can be pretty helpful to import all required packages at the top of the notebook.\n",
    "We've imported a few for you, and we'll let you figure out what else you might need. ⭐"
   ]
  },
  {
   "cell_type": "code",
   "execution_count": null,
   "id": "c047fe27",
   "metadata": {},
   "outputs": [],
   "source": [
    "import numpy as np\n",
    "import pandas as pd\n",
    "# -------------   WRITE YOUR CODE IN THE SPACE BELOW   ---------- #\n"
   ]
  },
  {
   "cell_type": "markdown",
   "id": "f57a4b87",
   "metadata": {},
   "source": [
    "## Plot a spectra as a sanity check\n",
    "\n",
    "Since you're working with more powder XRD spectra in this lab, it's a good idea to just visualize the spectra and create a clean figure for each of your unknown samples.\n",
    "You should be quite proficient at this by now!\n",
    "\n",
    "Remember the general steps are:\n",
    "1. Upload your data to JupyterHub in the `lab2` folder.\n",
    "1. Write code below to process and plot the data.\n",
    "1. Save the figure and download it to your computer.\n",
    "\n",
    "If you don't remember what you did in lab 1, you can always reference your completed notebooks (assuming you did them) by going to JupyterHub (https://datahub.berkeley.edu) and opening them 📁 > `mse104l` > `lab1`."
   ]
  },
  {
   "cell_type": "code",
   "execution_count": null,
   "id": "3ac29cf1",
   "metadata": {
    "tags": [
     "remove-output"
    ]
   },
   "outputs": [],
   "source": [
    "# -------------   WRITE YOUR CODE IN THE SPACE BELOW   ---------- #\n"
   ]
  },
  {
   "cell_type": "markdown",
   "id": "613738a0",
   "metadata": {},
   "source": [
    "## Lattice constant calculations\n",
    "\n",
    "Recall that for a cubic system the interplanar spacing between $(hkl)$ planes is given by:\n",
    "\n",
    "$$ \\frac{1}{d_{hkl}^2} = \\frac{h^2 + k^2 + l^2}{a^2} $$\n",
    "\n",
    "The equation for other systems can be found in your textbook (Table 4.1.2 in [Krishnan](https://academic.oup.com/book/43510))."
   ]
  },
  {
   "cell_type": "markdown",
   "id": "19cb1a93",
   "metadata": {
    "tags": [
     "remove-output"
    ]
   },
   "source": []
  },
  {
   "cell_type": "markdown",
   "id": "fe4a954e",
   "metadata": {},
   "source": [
    "## Nelson-Riley plots\n",
    "\n",
    "Recall that the Nelson-Riley function is used for cubic systems to get a more accurate measurement of the lattice constant.\n",
    "The Nelson-Riley function is\n",
    "\n",
    "$$ \\text{NR} = \\frac{\\cos^{2} \\theta}{\\sin \\theta} + \\frac{\\cos^2 \\theta}{\\theta} $$"
   ]
  },
  {
   "cell_type": "code",
   "execution_count": null,
   "id": "016ef2c3",
   "metadata": {
    "tags": [
     "remove-output"
    ]
   },
   "outputs": [],
   "source": []
  }
 ],
 "metadata": {
  "celltoolbar": "Tags",
  "kernelspec": {
   "display_name": "Python 3",
   "language": "python",
   "name": "python3"
  },
  "language_info": {
   "codemirror_mode": {
    "name": "ipython",
    "version": 3
   },
   "file_extension": ".py",
   "mimetype": "text/x-python",
   "name": "python",
   "nbconvert_exporter": "python",
   "pygments_lexer": "ipython3",
   "version": "3.8.8"
  }
 },
 "nbformat": 4,
 "nbformat_minor": 5
}
