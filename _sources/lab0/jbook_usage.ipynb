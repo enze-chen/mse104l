{
 "cells": [
  {
   "cell_type": "markdown",
   "id": "caac5058",
   "metadata": {},
   "source": [
    "# How to use Jupyter Book\n",
    "\n",
    "This document/website that you're reading right now is created using [Jupyter Book](https://jupyterbook.org/en/stable/intro.html). \n",
    "Not only can you read the prose, but you can also run the code in real time to put the ideas into practice.\n",
    "Here, we will take a moment to explain the UI to help you get the most out of the experience.\n",
    "\n",
    "```{tip}\n",
    "As with any other tool, there will be a learning curve. \n",
    "Initially it will take time to figure out the UI and Python commands; however, with time, we believe this method is **a lot faster and cleaner** than other methods (e.g., manual manipulation in Excel).\n",
    "It'll be more creative and fun too. 🙂\n",
    "```"
   ]
  },
  {
   "cell_type": "markdown",
   "id": "99b2418d",
   "metadata": {},
   "source": [
    "## Contents\n",
    "\n",
    "1. [Navigation](#Navigating-the-curriculum)\n",
    "1. [Interactivity](#Interactivity)\n",
    "1. [Upload/download data](#Uploading-your-own-data)"
   ]
  },
  {
   "cell_type": "markdown",
   "id": "54800821",
   "metadata": {},
   "source": [
    "## Navigating the curriculum\n",
    "\n",
    "[Back to top](#Contents)\n",
    "\n",
    "For the most part, you can use the navigation panel on the left to jump quickly to the exercise you're interested in. \n",
    "The `Lab X` pages will have a more detailed summary of all of the associated exercises for that lab, which can be expanded by clicking the down chevron (⌄). \n",
    "Feel free to click around and then come back to this page."
   ]
  },
  {
   "cell_type": "markdown",
   "id": "ee55a69d",
   "metadata": {},
   "source": [
    "````{sidebar} Complexities of managing Python\n",
    "```{figure} ../assets/fig/pythonenv_xkcd.png\n",
    ":alt: pythonenv_xkcd\n",
    ":width: 70%\n",
    ":align: center\n",
    "[xkcd 1987](https://xkcd.com/1987/).\n",
    "```\n",
    "````"
   ]
  },
  {
   "cell_type": "markdown",
   "id": "5ba3eaf5",
   "metadata": {},
   "source": [
    "## Interactivity\n",
    "\n",
    "[Back to top](#Contents)\n",
    "\n",
    "Several of the pages of this book are actually **Jupyter notebooks**, which provide interactive programming environments that interleave text, code, and graphics to provide hands-on learning experiences for students. \n",
    "On these pages, you will be able to run Python code in real time, whether that's for a tutorial to learn the commands or for your actual laboratory data analysis.\n",
    "The interactivity is enabled through the campus [JupyterHub](https://datahub.berkeley.edu/), which runs Jupyter notebooks in the cloud so you don't have to manage your own computing resources and Python installations.\n",
    "It's a blessing!"
   ]
  },
  {
   "cell_type": "markdown",
   "id": "5203d562",
   "metadata": {},
   "source": [
    "````{sidebar} The wonders of Python\n",
    "```{figure} ../assets/fig/python_xkcd.png\n",
    ":alt: python_xkcd\n",
    ":width: 70%\n",
    ":align: center\n",
    "[xkcd 353](https://xkcd.com/353/).\n",
    "```\n",
    "````"
   ]
  },
  {
   "cell_type": "markdown",
   "id": "3a271a2e",
   "metadata": {},
   "source": [
    "### Why Python? 🐍\n",
    "\n",
    "There are many programming languages one can choose from, and we eventually settled on Python as it has [skyrocketed in popularity](https://stackoverflow.blog/2017/09/06/incredible-growth-python/) in recent years.\n",
    "This growth is in part due to:\n",
    "\n",
    "1. Its _readability_. Python is designed to be simple and reads like English (e.g., `and` instead of `&&`).\n",
    "1. Its _extensibility_. Python makes it easy for developers to write _modules_ that extend its functionalities for applications in [data science](https://wesmckinney.com/book/), [scientific computing](https://www.nature.com/articles/s41586-020-2649-2), [imaging black holes](https://numfocus.org/case-studies/first-photograph-black-hole), and [flying drones on Mars](https://twitter.com/ThePSF/status/1362516507918483458?s=20).\n",
    "1. Its _open-source_ properties. This means anyone can contribute to Python development and anyone can use it—for free!\n",
    "\n",
    "```{note}\n",
    "There are many similarities between Python and MATLAB, but the latter doesn't interface well with Jupyter Book/Hub (yet).\n",
    "You could conceivably follow these instructions and write analogous code in MATLAB, but we invite you to give Python a try in the JupyterHub, and we're banking on the fact that open-source codes (e.g., Python, Julia) will only become more prominent in your future work.\n",
    "```"
   ]
  },
  {
   "cell_type": "markdown",
   "id": "52323cf7",
   "metadata": {},
   "source": [
    "### Launching JupyterHub \n",
    "\n",
    "To launch any notebook in the JupyterHub, hover over the {fa}`rocket` icon in the top-right corner, then <kbd>Ctrl</kbd>+click the button {guilabel}`🪐JupyterHub` (open in new tab), and wait for the Hub to spawn an environment. \n",
    "You may have to periodically login using your CalNet credentials and approve Canvas authorizations.\n",
    "Note that not all pages are interactive, and thus not all pages will have the rocket symbol; we will try to indicate interactive pages with a 🚀 emoji in the navigation bar.\n",
    "\n",
    "```{attention}\n",
    "**Try it now** by clicking on the {fa}`rocket` for this page and read the rest of the page in JupyterHub!\n",
    "```"
   ]
  },
  {
   "cell_type": "markdown",
   "id": "f1f2a40d",
   "metadata": {},
   "source": [
    "### Running a Jupyter notebook \n",
    "\n",
    "The information in Jupyter notebooks is organized into **cells**, which come in many forms.\n",
    "This cell is called a **Markdown cell**, which is used for text/media that can be formatted with the [Markdown](https://www.markdownguide.org/) markup language.\n",
    "You know this is a Markdown cell because when you select this cell (click on it such that a <font color=\"blue\">blue bar</font> appears on the left), the menu bar at the top shows \"`Markdown  v`\" in the second row:\n",
    "\n",
    "![jupyter_menu](../assets/fig/jupyter_menu.png)"
   ]
  },
  {
   "cell_type": "markdown",
   "id": "6ad769ef",
   "metadata": {},
   "source": [
    "#### Code cells\n",
    "\n",
    "Notice how the next cell looks a little different. \n",
    "It is a **code cell**, which you can distinguish in a few ways. \n",
    "\n",
    "- If you click in the cell, the menu bar at the top will now show \"`Code     v`.\"\n",
    "- The cell will always have a gray background.\n",
    "- You may also notice a `In [ ]:` tag in the left margin.\n",
    "\n",
    "You can write Python code in these cells and then **execute the code** with <kbd>Shift</kbd>+<kbd>Enter</kbd>.\n",
    "Or you can click the <kbd>▶ Run</kbd> button in the menu bar to execute the code.\n",
    "\n",
    "**Quick exercise:** In the space below, enter your name between the quotation marks and then run the code cell by pressing <kbd>Shift</kbd>+<kbd>Enter</kbd>."
   ]
  },
  {
   "cell_type": "code",
   "execution_count": null,
   "id": "c7dfed87",
   "metadata": {
    "tags": [
     "remove-output"
    ]
   },
   "outputs": [],
   "source": [
    "# inline comments in Python start with \"#\"\n",
    "name = \"\"                  # enter your name here as a string, enclosed by quotes\n",
    "print(f'Hello, {name}!')  "
   ]
  },
  {
   "cell_type": "markdown",
   "id": "0980af9e",
   "metadata": {},
   "source": [
    "You should see some output and a number appear between the square brackets!\n",
    "(e.g., `In [1]:`)\n",
    "This number indicates the sequence of code cell execution, which can be handy for a few reasons:\n",
    "\n",
    "- You can clearly tell which cells have been executed and which cells have not.\n",
    "- You can split code among several code blocks and run them in whatever order you want.\n",
    "- You can easily change an earlier code cell (and rerun it!) if you only realize later on that you missed something."
   ]
  },
  {
   "cell_type": "markdown",
   "id": "fee911d8",
   "metadata": {},
   "source": [
    "### Benefits of JupyterHub\n",
    "\n",
    "If you are a UC Berkeley student, you may be reading this Jupyter notebook on the school's DataHub (a [JupyterHub](https://jupyter.org/hub) instance), thanks to the support of the [Division of Computing, Data Science, and Society](https://data.berkeley.edu/).\n",
    "With DataHub, all of our Python code will be **executed and saved in the cloud**, even when you close a notebook.\n",
    "We'll now quickly demonstrate how to navigate to the root directory for you to see all the files in DataHub and upload new ones as needed."
   ]
  },
  {
   "cell_type": "markdown",
   "id": "1186a5b8",
   "metadata": {},
   "source": [
    "## Uploading your own data\n",
    "\n",
    "[Back to top](#Contents)\n",
    "\n",
    "While we've structured the coding and data analysis, you will still have to supply the raw data that you've collected. \n",
    "Moreover, if there are any files produced by the code (e.g., figures), you will have to download those onto your computer before inserting them into your lab writeup.\n",
    "Luckily, it's quite easy to interface with DataHub to upload/download files so you can use them in your notebooks.\n",
    "\n",
    "First navigate to the root DataHub directory with all of your sessions: https://datahub.berkeley.edu is the URL, or you can click the <kbd>🪐jupyter</kbd> logo in the top-left corner.\n",
    "Then enter the folder of the lab that you're working on, by clicking 📁 > **mse104l** > **lab#**.\n",
    "An example of the Lab 1 folder is shown in the following image:\n",
    "\n",
    "![jhub_lab1](../assets/fig/jhub_lab1.png)\n",
    "\n",
    "Here, you can:\n",
    "- **Upload** raw data files (e.g., CSVs from the diffractometer) by clicking <kbd>Upload</kbd> in the top-right corner and finding the files on your computer.\n",
    "- **Download** files (e.g., PNG figures) by selecting the check box and clicking <kbd>Download</kbd> in the menu options that appear."
   ]
  },
  {
   "cell_type": "markdown",
   "id": "72c12af0",
   "metadata": {},
   "source": [
    "### Note on external links\n",
    "\n",
    "The default behavior of Jupyter Book/Sphinx/HTML is to open all links _in the current tab_, so if you want to open external links in a new tab, you will have to `Ctrl+Click` the link or right click and select <kbd>Open link in new tab</kbd>.\n",
    "Otherwise you'll have to keep clicking the 🔙 button in your browser to return to (and reload) the Jupyter Book."
   ]
  },
  {
   "cell_type": "markdown",
   "id": "e8c620ff",
   "metadata": {},
   "source": [
    "## Conclusion\n",
    "\n",
    "[Back to top](#Contents)\n",
    "\n",
    "This completes our introduction to the Jupyter Book interface.\n",
    "If you're new to Python, we've included an accompanying notebook on the next page that goes through the fundamental commands you'll likely need to complete all of the Python exercises for the labs.\n",
    "We hope it's a helpful refresher.\n",
    "\n",
    "If you're already familiar with Python, you can proceed directly to Lab 1, which focuses on data visualization!"
   ]
  }
 ],
 "metadata": {
  "celltoolbar": "Tags",
  "kernelspec": {
   "display_name": "Python 3 (ipykernel)",
   "language": "python",
   "name": "python3"
  },
  "language_info": {
   "codemirror_mode": {
    "name": "ipython",
    "version": 3
   },
   "file_extension": ".py",
   "mimetype": "text/x-python",
   "name": "python",
   "nbconvert_exporter": "python",
   "pygments_lexer": "ipython3",
   "version": "3.7.11"
  }
 },
 "nbformat": 4,
 "nbformat_minor": 5
}
