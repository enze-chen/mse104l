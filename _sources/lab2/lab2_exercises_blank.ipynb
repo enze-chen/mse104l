{
 "cells": [
  {
   "cell_type": "markdown",
   "id": "da4c4cef",
   "metadata": {},
   "source": [
    "# MSE 104L laboratory 2 exercises\n",
    "\n",
    "*Authors: Enze Chen (University of California, Berkeley)*\n",
    "\n",
    "```{note}\n",
    "This is an interactive exercise, so you will want to click the {fa}`rocket` and open the notebook in DataHub (or Colab for non-UCB students).\n",
    "```\n",
    "\n",
    "This notebook contains a series of exercises to help you process your data from Lab 2. \n",
    "It doesn't answer all of the discussion questions in the lab procedures, but it will help you create some figures that can supplement the narrative of your lab report."
   ]
  },
  {
   "cell_type": "markdown",
   "id": "0fd1f347",
   "metadata": {},
   "source": [
    "## Contents\n",
    "\n",
    "The exercises in this notebook include:\n",
    "1. [Plotting refresher](#Plot-a-spectra-as-a-sanity-check)\n",
    "1. [Calculating lattice constants](#Lattice-constant-calculations)\n",
    "1. [Nelson-Riley plots](#Nelson-Riley-plots)"
   ]
  },
  {
   "cell_type": "markdown",
   "id": "24103fed",
   "metadata": {},
   "source": [
    "## Import Python packages\n",
    "\n",
    "It can be pretty helpful to import all required packages at the top of the notebook.\n",
    "We've imported a few for you, and we'll let you figure out what else you might need. \n",
    "Don't forget the plot styling! ⭐"
   ]
  },
  {
   "cell_type": "code",
   "execution_count": null,
   "id": "ac38fcbf",
   "metadata": {},
   "outputs": [],
   "source": [
    "import numpy as np\n",
    "import pandas as pd\n",
    "# -------------   WRITE YOUR CODE IN THE SPACE BELOW   ---------- #\n"
   ]
  },
  {
   "cell_type": "markdown",
   "id": "7940b285",
   "metadata": {},
   "source": [
    "## Plot a spectra as a sanity check\n",
    "\n",
    "[Back to top](#Contents)\n",
    "\n",
    "Since you're working with more powder XRD spectra in this lab, it's a good idea to just visualize the spectra and create **a clean figure for each of your unknown samples**.\n",
    "This is also good practice to remind yourself of the commands from the previous lab.\n",
    "You should be quite proficient at this by now!\n",
    "\n",
    "Remember the general steps are:\n",
    "1. Upload your data to JupyterHub in the `lab2` folder.\n",
    "1. Write code below to process and plot the data.\n",
    "    - You'll probably start with `df = pd.read_csv('sample_N.txt', names=['something', 'sensible'])`.\n",
    "    - Call `fig, ax = plt.subplots()` to get things started.\n",
    "    - Use `ax.plot()` and `ax.set()` to plot and style things.\n",
    "1. Save the figure and download it to your computer.\n",
    "    - Recall this is `fig.savefig('my_figure.png', dpi=300, bbox_inches='tight')`.\n",
    "\n",
    "If you don't remember what you did in lab 1, you can always reference your completed notebooks (assuming you did them) by going to JupyterHub (https://datahub.berkeley.edu) and opening them 📁 > `mse104l` > `lab1`.\n",
    "**Copy+paste previous code** is definitely a thing!"
   ]
  },
  {
   "cell_type": "code",
   "execution_count": null,
   "id": "eb3f5c38",
   "metadata": {
    "tags": [
     "remove-output"
    ]
   },
   "outputs": [],
   "source": [
    "# -------------   WRITE YOUR CODE IN THE SPACE BELOW   ---------- #\n"
   ]
  },
  {
   "cell_type": "markdown",
   "id": "eab03f0a",
   "metadata": {},
   "source": [
    "<div class='alert alert-warning'>\n",
    "    For your cubic crystal structures, you don't <i>have to</i> use a programmatic solution to solve for the lattice constants.\n",
    "    But realize that this means you'll have to calculate the lattice constant (<i>a</i>) corresponding to each peak by hand, and that gets <i>repetitive</i>.\n",
    "    Often times, if we find ourselves doing the same set of structured tasks over and over again, it's a good case to turn to a programmatic solution to automate things. \n",
    "    Also, you'll thank us when you get to Lab 3. 😉\n",
    "</div>"
   ]
  },
  {
   "cell_type": "markdown",
   "id": "460e74e0",
   "metadata": {},
   "source": [
    "## Lattice constant calculations\n",
    "\n",
    "[Back to top](#Contents)\n",
    "\n",
    "In this course, you can expect to be given an XRD spectrum and deduce the crystal structure from the peak positions.\n",
    "This is a tedious exercise by hand because we have to compute each peak individually, so we'll try to speed things up and _automate_ the calculations using Python.\n",
    "\n",
    "Arguably the most important equation is **Bragg's law**, given by \n",
    "\n",
    "$$ n\\lambda = 2d \\sin(\\theta) \\tag{1} $$\n",
    "\n",
    "where $n$ is the order (typically $1$), $\\lambda$ is the wavelength, $d$ is the interplanar spacing, and $\\theta$ is the Bragg angle. \n",
    "We'll be manipulating this equation to calculate lattice constants."
   ]
  },
  {
   "cell_type": "markdown",
   "id": "40c70ad3",
   "metadata": {},
   "source": [
    "### 1. Inputs / experimental data\n",
    "\n",
    "Start by typing in your known values:\n",
    "* Wavelength: A `float` in _nanometers_, most likely `0.154` corresponding to Cu-K$\\alpha$.\n",
    "* Angles: Values are $2\\theta$ in _degrees_. The angles should be stored in a `list` in the form \n",
    "```python\n",
    "angles = [1.23, 4.56, 7.89]  \n",
    "```\n",
    "for however many $2\\theta$ peak values you've measured (maybe 3 to 5, or so).\n",
    "If you don't have your own data, or just want to try these exercises for fun, you can use the sample data [in this file](https://github.com/enze-chen/learning_modules/blob/master/data/xrd_peaks_CuKa.csv) (ignore intensity for this lab).\n",
    "\n",
    "**Note**: Unlike the spectra plots, we **only** need the angles corresponding to the _peak positions_, **not all angles** collected by the diffractometer. 😅"
   ]
  },
  {
   "cell_type": "code",
   "execution_count": null,
   "id": "ad46b380",
   "metadata": {
    "tags": [
     "remove-output"
    ]
   },
   "outputs": [],
   "source": [
    "# -------------   WRITE YOUR CODE IN THE SPACE BELOW   ---------- #\n",
    "wavelength = None\n",
    "angles = []\n"
   ]
  },
  {
   "cell_type": "markdown",
   "id": "a8b67278",
   "metadata": {},
   "source": [
    "### 2. Creating our DataFrame\n",
    "\n",
    "Now it's time to construct our [pandas DataFrame](https://pandas.pydata.org/pandas-docs/stable/reference/api/pandas.DataFrame.html) using the `dict` version of the constructor.\n",
    "We'll need one column (`key:value` pair) for the `wavelength` and another for `angles`.\n",
    "Once you've constructed the DataFrame, the `df` variable on the last line will display it."
   ]
  },
  {
   "cell_type": "code",
   "execution_count": null,
   "id": "66609361",
   "metadata": {
    "tags": [
     "remove-output"
    ]
   },
   "outputs": [],
   "source": [
    "# -------------   WRITE YOUR CODE IN THE SPACE BELOW   ---------- #\n",
    "\n",
    "df  # you should see two columns with your data! Always good to show the df"
   ]
  },
  {
   "cell_type": "markdown",
   "id": "4e11bdd9",
   "metadata": {},
   "source": [
    "### 3. Numerical calculations\n",
    "\n",
    "Note that if we assume $n=1$ in Bragg's law, then we have three unknowns. \n",
    "In our case, we know the wavelength and angle, so we can find the interplanar spacing as follows:\n",
    "\n",
    "$$ d = \\frac{\\lambda}{2 \\sin (\\theta)} \\tag{2}$$\n",
    "\n",
    "We will try to do this in a very principled fashion.\n",
    "_Modular solutions_ are very important when programming.\n",
    "\n",
    "#### 3.1 Find $\\theta$ \n",
    "\n",
    "First, we need to get the $\\theta$ values. \n",
    "We can do this by creating a new column in the DataFrame whose entries are computed by dividing the existing column of $2\\theta$ values by 2. \n",
    "Also, we **strongly recommend** that you convert the angles to radians using the [`np.deg2rad()`](https://numpy.org/doc/stable/reference/generated/numpy.deg2rad.html) function on the result. ⭐\n",
    "\n",
    "So, the syntax will look something like this:\n",
    "```python\n",
    "df['new_column_name'] = np.deg2rad(df['column_of_2theta_angles'] / 2)\n",
    "```\n",
    "\n",
    "Of course, please use better names.\n",
    "After you've done this, display the DataFrame like we did above to confirm you did it correctly."
   ]
  },
  {
   "cell_type": "code",
   "execution_count": null,
   "id": "e8005cb7",
   "metadata": {
    "tags": [
     "remove-output"
    ]
   },
   "outputs": [],
   "source": [
    "# -------------   WRITE YOUR CODE IN THE SPACE BELOW   ---------- #\n"
   ]
  },
  {
   "cell_type": "markdown",
   "id": "ceeda7d0",
   "metadata": {},
   "source": [
    "#### 3.2 Take the sine\n",
    "\n",
    "Next, we'll compute the sine of the $\\theta$ values using `np.sin()`, whose argument inside the parentheses _must be in radians_ —good thing we converted it earlier!\n",
    "Add another column to your DataFrame with the sine of the angles."
   ]
  },
  {
   "cell_type": "code",
   "execution_count": null,
   "id": "168a5468",
   "metadata": {
    "tags": [
     "remove-output"
    ]
   },
   "outputs": [],
   "source": [
    "# -------------   WRITE YOUR CODE IN THE SPACE BELOW   ---------- #\n"
   ]
  },
  {
   "cell_type": "markdown",
   "id": "8bf47c92",
   "metadata": {},
   "source": [
    "#### 3.3 Calculate the interplanar spacing, $d$\n",
    "\n",
    "Now you have all the pieces in place for calculating $d$. What's awesome about pandas is that you can perform element-wise division of two columns by use of the division operator, `/`. \n",
    "Create a new column that does exactly what Equation (2) says. \n",
    "Don't forget to include parentheses when you multiply the denominator by 2!"
   ]
  },
  {
   "cell_type": "code",
   "execution_count": null,
   "id": "cf5339b1",
   "metadata": {
    "tags": [
     "remove-output"
    ]
   },
   "outputs": [],
   "source": [
    "# -------------   WRITE YOUR CODE IN THE SPACE BELOW   ---------- #\n"
   ]
  },
  {
   "cell_type": "markdown",
   "id": "d50f5cb2",
   "metadata": {},
   "source": [
    "#### 3.4 Take the ratio of $d^2$ values\n",
    "\n",
    "At this point, you know to take the ratio between the first distance and each distance measured; however, there's a small \"hack\" to this. 😎\n",
    "\n",
    "If you do it naively, you'll get numbers like `1.000`, `1.414`, `1.732`, and the like. \n",
    "Unless you know your square root approximations, this can be tricky to decipher. \n",
    "We prefer to **square** the distances first, and then take the ratio.\n",
    "We've done this below for some sample data, but you may have to modify it to match your column names.\n",
    "\n",
    "The resulting column should have values that are close to integers or multiples of a simple fraction like $\\frac{1}{3}$."
   ]
  },
  {
   "cell_type": "code",
   "execution_count": null,
   "id": "dcc77c63",
   "metadata": {
    "tags": [
     "remove-output"
    ]
   },
   "outputs": [],
   "source": [
    "# -------------   WRITE YOUR CODE IN THE SPACE BELOW   ---------- #\n",
    "# square the distances\n",
    "df['d^2'] = df['d'] ** 2\n",
    "\n",
    "# take the ratio - finish this one-liner\n",
    "\n",
    "\n",
    "# show the df\n",
    "df"
   ]
  },
  {
   "cell_type": "markdown",
   "id": "15950f6d",
   "metadata": {},
   "source": [
    "#### 3.5 Figure out the crystal structure and index the peaks\n",
    "\n",
    "OK! At this point, the ratios should be enough for you to deduce which crystal structure you have on your hands. \n",
    "This will allow you to index the peaks accordingly. \n",
    "You can probably do this part by hand. "
   ]
  },
  {
   "cell_type": "markdown",
   "id": "a9d3bc91",
   "metadata": {},
   "source": [
    "## Nelson-Riley plots\n",
    "\n",
    "[Back to top](#Contents)\n",
    "\n",
    "Recall that the Nelson-Riley function is used for cubic systems to get a more accurate measurement of the lattice constant.\n",
    "The Nelson-Riley function is\n",
    "\n",
    "$$ \\text{NR} = \\frac{\\cos^{2} \\theta}{\\sin \\theta} + \\frac{\\cos^2 \\theta}{\\theta} \\tag{3} $$\n",
    "\n",
    "You can probably sense where this is going.\n",
    "If you've done the above calculations with the pandas DataFrame, it's quite easy to **add another column** of Nelson-Riley values!\n",
    "Only one line of number crunching with Equation (3).\n",
    "If you already did the previous parts and come back to this section later, you'll see with coding that it's very easy to pick up where you left off by extending the code you've already created."
   ]
  },
  {
   "cell_type": "code",
   "execution_count": null,
   "id": "c912faeb",
   "metadata": {
    "tags": [
     "remove-output"
    ]
   },
   "outputs": [],
   "source": [
    "# -------------   WRITE YOUR CODE IN THE SPACE BELOW   ---------- #\n"
   ]
  },
  {
   "cell_type": "markdown",
   "id": "69f525a6",
   "metadata": {},
   "source": [
    "Recall that for a cubic system the interplanar spacing between $(hkl)$ planes is given by (Table 4.1.2 in [Krishnan](https://academic.oup.com/book/43510)):\n",
    "\n",
    "$$ \\frac{1}{d_{hkl}} = \\frac{\\sqrt{h^2 + k^2 + l^2}}{a} \\stackrel{\\text{def}}{=} \\frac{s_{hkl}}{a} \\implies a = s_{hkl} \\cdot d_{hkl}$$\n",
    "\n",
    "In order to get the cubic lattice constants for our Nelson-Riley plots, we need to first include $s$, which we can hard code below.\n",
    "Based on the structure (SC, BCC, FCC), index the planes accordingly to get $hkl$ values to calculate $s$.\n",
    "To clarify what we mean, we've left in the code structure below, which you'll have to again modify and fill in the calculation to get $a$.\n",
    "In the JupyterHub, we've also included a PNG of our final data table (`xrd_dataframe.png`, using our fake data) so you have a sense of what we were intending—and if you did something else, that's OK!"
   ]
  },
  {
   "cell_type": "code",
   "execution_count": null,
   "id": "7f1206df",
   "metadata": {
    "tags": [
     "remove-output"
    ]
   },
   "outputs": [],
   "source": [
    "s = np.sqrt([3, 4, 8, 11, 12, 16, 19])   # based on our dummy data\n",
    "df['s'] = s    # create a column\n",
    "# -------------   WRITE YOUR CODE IN THE SPACE BELOW   ---------- #\n",
    "\n",
    "df   # add in one line of multiplication above to calculate a!"
   ]
  },
  {
   "cell_type": "markdown",
   "id": "20b93d04",
   "metadata": {},
   "source": [
    "Now you're all set to make your NR plot!\n",
    "1. ⭐ First plot the individual data points using a method like [`ax.scatter()`](https://matplotlib.org/stable/api/_as_gen/matplotlib.axes.Axes.scatter.html). The `s` parameter changes the marker size.\n",
    "1. Then compute a line of best fit using [`np.polyfit()`](https://numpy.org/doc/stable/reference/generated/numpy.polyfit.html) and add it to the plot.\n",
    "1. ⭐ You may want to `ax.set()` the $x$-axis limits to be bounded by the $y$-intercept on the left.\n",
    "1. Of course, with `np.polyfit()`, it directly returns the $y$-intercept which you can print out!"
   ]
  },
  {
   "cell_type": "code",
   "execution_count": null,
   "id": "6499781d",
   "metadata": {
    "scrolled": false,
    "tags": [
     "remove-output"
    ]
   },
   "outputs": [],
   "source": [
    "# -------------   WRITE YOUR CODE IN THE SPACE BELOW   ---------- #\n"
   ]
  },
  {
   "cell_type": "markdown",
   "id": "414e2468",
   "metadata": {},
   "source": [
    "## Conclusion\n",
    "\n",
    "[Back to top](#Contents)\n",
    "\n",
    "This concludes the programming exercises for Lab 2. \n",
    "Congratulations! \n",
    "We hope you're proud of the plots that you generated and wish you luck with the lab writeup. 📝"
   ]
  }
 ],
 "metadata": {
  "celltoolbar": "Tags",
  "kernelspec": {
   "display_name": "Python 3",
   "language": "python",
   "name": "python3"
  },
  "language_info": {
   "codemirror_mode": {
    "name": "ipython",
    "version": 3
   },
   "file_extension": ".py",
   "mimetype": "text/x-python",
   "name": "python",
   "nbconvert_exporter": "python",
   "pygments_lexer": "ipython3",
   "version": "3.8.8"
  }
 },
 "nbformat": 4,
 "nbformat_minor": 5
}
