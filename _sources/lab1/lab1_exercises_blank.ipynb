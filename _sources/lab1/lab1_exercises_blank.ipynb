{
 "cells": [
  {
   "cell_type": "markdown",
   "id": "da4c4cef",
   "metadata": {},
   "source": [
    "# MSE 104L laboratory 1 exercises\n",
    "\n",
    "*Authors: Enze Chen (University of California, Berkeley)*\n",
    "\n",
    "```{note}\n",
    "This is an interactive exercise, so you will want to click the {fa}`rocket` and open the notebook in DataHub (or Colab for non-UCB students).\n",
    "```\n",
    "\n",
    "This notebook contains a series of exercises to help you process your data from Lab 1. \n",
    "It doesn't answer all of the discussion questions in the lab procedures, but it will help you create a series of figures that can structure the narrative of your lab report.\n",
    "We hope it makes the writeup easier!\n",
    "\n",
    "<div class='alert alert-success'>\n",
    "We tried to stagger the guidance such that each exercise only introduces a few new ideas at a time.\n",
    "These new ideas are marked with a ⭐.\n",
    "</div>\n",
    "\n",
    "<div class='alert alert-warning'>\n",
    "We understand that many students' plots may now look very similar, but please make sure to write your own code and lab reports.\n",
    "That will lead to deeper learning.\n",
    "</div>"
   ]
  },
  {
   "cell_type": "markdown",
   "id": "1fbadefe",
   "metadata": {},
   "source": [
    "## Contents\n",
    "\n",
    "The exercises in this notebook include:\n",
    "1. [Visualizing spectra](#Visualizing-an-emission-spectra)\n",
    "1. [Plotting different filters](#Multiple-spectra---different-filter-elements)\n",
    "1. [Plotting different thicknesses](#Multiple-spectra---different-filter-thicknesses)\n",
    "1. [Scatterplots](#Scatterplot-and-line-of-best-fit)"
   ]
  },
  {
   "cell_type": "markdown",
   "id": "f0328de3",
   "metadata": {},
   "source": [
    "## Import Python packages\n",
    "\n",
    "It can be pretty helpful to import all required packages at the top of the notebook, which we've done below.\n",
    "Please modify the settings as needed.\n",
    "Run the cell below using <kbd>Shift</kbd>+<kbd>Enter</kbd>."
   ]
  },
  {
   "cell_type": "code",
   "execution_count": null,
   "id": "6d17523e",
   "metadata": {},
   "outputs": [],
   "source": [
    "# You can import other packages if you want, but you shouldn't have to.\n",
    "import numpy as np\n",
    "import matplotlib.pyplot as plt\n",
    "\n",
    "plt.rcParams.update({\n",
    "    'figure.figsize': (5,4),   # You might want to change this to be wider for spectra!! \n",
    "    'font.size':         18,\n",
    "    'lines.linewidth':  2.5,\n",
    "    'lines.markersize':  10,\n",
    "    'axes.linewidth':     2,\n",
    "    'xtick.major.size':   8,\n",
    "    'xtick.major.width':  2,\n",
    "    'ytick.major.size':   8,\n",
    "    'ytick.major.width':  2\n",
    "})"
   ]
  },
  {
   "cell_type": "markdown",
   "id": "51e045ce",
   "metadata": {},
   "source": [
    "## Visualizing an emission spectra\n",
    "\n",
    "[Back to top](#Contents)\n",
    "\n",
    "Since you went through all that trouble to gather a Cu emission spectra experimentally, let's now plot it!\n",
    "When talking about any kind of scientific phenomenon, it's often helpful to include a representative figure. 😉\n",
    "\n",
    "1. First, you'll want to **upload the diffractometer data** to the folder containing this notebook in JupyterHub (📁 > `mse104l` > `lab1`).\n",
    "1. Then you can load the data into a NumPy array with [`np.loadtxt()`](https://numpy.org/doc/stable/reference/generated/numpy.loadtxt.html).\n",
    "1. ⭐ Then plot it with Matplotlib! ([`ax.plot()`](https://matplotlib.org/stable/api/_as_gen/matplotlib.axes.Axes.plot.html))\n",
    "1. ❗Don't forget styling elements! Here's the character for theta: θ\n",
    "1. **Download the saved figure** and paste it into your lab writeup.\n",
    "You can find the saved figure in the same JupyterHub directory as above."
   ]
  },
  {
   "cell_type": "code",
   "execution_count": null,
   "id": "e182be9b",
   "metadata": {
    "tags": [
     "remove-output"
    ]
   },
   "outputs": [],
   "source": [
    "# -------------   WRITE YOUR CODE IN THE SPACE BELOW   ---------- #\n",
    "bare_data = 'my_Cu_file.txt'   # replace this with your file name\n",
    "\n",
    "Cu_bare = np.loadtxt(bare_data, delimiter=',')\n",
    "\n",
    "fig, ax = plt.subplots()   # create and style a plot below\n",
    "\n",
    "plt.show()\n",
    "fig.savefig('Cu_bare.png', dpi=300, bbox_inches='tight')"
   ]
  },
  {
   "cell_type": "markdown",
   "id": "a78ab72a",
   "metadata": {},
   "source": [
    "### Some thoughts on styling\n",
    "\n",
    "From our experience:\n",
    "- It is _almost always_ the case that your fonts (e.g., labels) and line thickness need to be **larger than you expect**. \n",
    "This is because the figure will be shrunk in your report/poster/etc., but it still needs to be readable.\n",
    "- Titles are somewhat optional, as they just take up valuable space from your data. \n",
    "Throw the descriptions into your figure captions in your report.\n",
    "- Intensities are somewhat arbitrary, so you can give it units of [`(a.u.)`](https://en.wikipedia.org/wiki/Arbitrary_unit) and omit the bulky $y$-ticks/labels by passing `yticks=[]` to `ax.set()`. \n",
    "More space for your data!"
   ]
  },
  {
   "cell_type": "markdown",
   "id": "0d0fc889",
   "metadata": {},
   "source": [
    "## Multiple spectra - different filter elements\n",
    "\n",
    "[Back to top](#Contents)\n",
    "\n",
    "Part of the lab asks you to identify the absorption edges of different metal elements used in the filters.\n",
    "You could just inspect each spectra individually, but it might be more compelling if you compared 1-vs-1 with the bare Cu spectra.\n",
    "If you want to plot multiple curves on the same axis:\n",
    "\n",
    "1. Copy the code from above and add another `ax.plot()` call to add a second spectra featuring **one** of the elemental filters.\n",
    "    - ⭐ We recommend adding labels and a legend to help distinguish them.\n",
    "    - ⭐ We recommend making the **colors** for each elemental filter consistent. \n",
    "    You can choose the color name [from these lists](https://matplotlib.org/stable/gallery/color/named_colors.html) and set it using the `c` parameter: `ax.plot(x, y, c='my_color_name')`.\n",
    "    - We _do not_ recommend plotting all filters onto the same plot.\n",
    "1. ⭐ To help reveal the absorption edge, we recommend **changing the scale** on the $y$-axis. You can do so by passing `yscale='value'`, to the `ax.set()` method, where `value` is chosen [from here](https://matplotlib.org/stable/api/_as_gen/matplotlib.pyplot.yscale.html)."
   ]
  },
  {
   "cell_type": "code",
   "execution_count": null,
   "id": "cea7d14c",
   "metadata": {
    "tags": [
     "remove-output"
    ]
   },
   "outputs": [],
   "source": [
    "# -------------   WRITE YOUR CODE IN THE SPACE BELOW   ---------- #\n"
   ]
  },
  {
   "cell_type": "markdown",
   "id": "ec53f9fa",
   "metadata": {},
   "source": [
    "## Multiple spectra - different filter thicknesses\n",
    "\n",
    "[Back to top](#Contents)\n",
    "\n",
    "Another part of the lab asks you to observe how the absorption spectra changes with respect to Ni filters of different thicknesses. \n",
    "There are **two plots** that are helpful here.\n",
    "\n",
    "You might want to consider a plot with the bare Cu spectra and the four different Ni spectra on the same plot. \n",
    "This allows you to see how the filters progressively change the intensity.\n",
    "- ⭐ To **zoom in** on the region (peak) of interest, you can change the $x$-axis limits with a `xlim=(start,end)` argument in the `ax.set()` method. \n",
    "You have to figure out the appropriate limits to capture the interesting behavior.\n",
    "- ⭐ Make sure you **clearly label** all of your plots and include a legend.\n",
    "It's handy that Matplotlib automatically cycles through different colors.\n",
    "- You may want to reset some of your Pyplot settings, depending on what you had set previously.\n",
    "You can begin the cell below with another `plt.rcParams.update()` call and just update `figure.figsize` and `font.size`."
   ]
  },
  {
   "cell_type": "code",
   "execution_count": null,
   "id": "c0602286",
   "metadata": {
    "tags": [
     "remove-output"
    ]
   },
   "outputs": [],
   "source": [
    "# -------------   WRITE YOUR CODE IN THE SPACE BELOW   ---------- #\n",
    "plt.rcParams.update({})   # add key:value pairs here\n"
   ]
  },
  {
   "cell_type": "markdown",
   "id": "f8fc4463",
   "metadata": {},
   "source": [
    "## Scatterplot and curve fitting\n",
    "\n",
    "[Back to top](#Contents)\n",
    "\n",
    "The second plot is regarding the mass absorption coefficient, $\\mu/\\rho$, given by the equation:\n",
    "\n",
    "$$ I_x = I_0 \\exp \\left[ -\\left( \\frac{\\mu}{\\rho} \\right) \\rho x \\right] $$\n",
    "\n",
    "where $I_0$ and $I_x$ are the incident and transmitted intensities, respectively, $\\rho$ is the density, and $x$ is the distance traveled through the absorbing medium.\n",
    "You have collected the values of $I_0$ and $I_x$, you've been told $x$, and you can look up tabulated values of $\\rho$.\n",
    "The individual points will have noise, so it's best to compute a **line of best fit** and then extract the mass absorption coefficient $\\mu/\\rho$.\n",
    "\n",
    "Here are some more hints:\n",
    "- You should probably manually create NumPy arrays for your values with the syntax: `x=np.array(list_of_values)` and similarly for `y`.\n",
    "- ⭐ To take the **natural logarithm** of an array, use [`np.log(arr)`](https://numpy.org/doc/stable/reference/generated/numpy.log.html).\n",
    "- ⭐ To calculate a **line of best fit** in Python, you can use the [`np.polyfit(x, y, degree)`](https://numpy.org/doc/stable/reference/generated/numpy.polyfit.html) command as follows: \n",
    "```python\n",
    "c = np.polyfit(x, y, 1)\n",
    "```\n",
    "where `x` and `y` hold your values and `1` specifies a degree 1 polynomial (line).\n",
    "The resulting coefficients are stored in the `c` array in _decreasing order of_ $x$;\n",
    "that is, $c = [c_0, c_1, \\dots, c_n]$ where $c_0 x^n + c_1 x^{n-1} + \\cdots + c_{n-1} x + c_n $ for a degree $n$ polynomial fit.\n",
    "- ⭐ Just as `ax.plot()` is for curves, [`ax.scatter(x, y)`](https://matplotlib.org/stable/api/_as_gen/matplotlib.axes.Axes.scatter.html) can be used for individual points."
   ]
  },
  {
   "cell_type": "code",
   "execution_count": null,
   "id": "1e7ffbe2",
   "metadata": {
    "tags": [
     "remove-output"
    ]
   },
   "outputs": [],
   "source": [
    "# -------------   WRITE YOUR CODE IN THE SPACE BELOW   ---------- #\n"
   ]
  },
  {
   "cell_type": "markdown",
   "id": "414e2468",
   "metadata": {},
   "source": [
    "## Conclusion\n",
    "\n",
    "[Back to top](#Contents)\n",
    "\n",
    "This concludes the plotting exercises for Lab 1. \n",
    "Congratulations! \n",
    "We hope you're proud of the plots that you generated and we wish you luck with the lab writeup. 📝\n",
    "\n",
    "Note that the plot for Moseley's relation, while not discussed explicitly here, follows the last exercise closely."
   ]
  }
 ],
 "metadata": {
  "celltoolbar": "Tags",
  "kernelspec": {
   "display_name": "Python 3",
   "language": "python",
   "name": "python3"
  },
  "language_info": {
   "codemirror_mode": {
    "name": "ipython",
    "version": 3
   },
   "file_extension": ".py",
   "mimetype": "text/x-python",
   "name": "python",
   "nbconvert_exporter": "python",
   "pygments_lexer": "ipython3",
   "version": "3.8.8"
  }
 },
 "nbformat": 4,
 "nbformat_minor": 5
}
