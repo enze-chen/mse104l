{
 "cells": [
  {
   "cell_type": "markdown",
   "id": "caac5058",
   "metadata": {},
   "source": [
    "# How to use Jupyter Book\n",
    "\n",
    "This document/website that you're reading right now is created using [Jupyter Book](https://jupyterbook.org/en/stable/intro.html). \n",
    "Not only can you read the prose, but you can also run the code in real time to put the ideas into practice.\n",
    "Here, we will take a moment to explain the UI to maximize your benefit."
   ]
  },
  {
   "cell_type": "markdown",
   "id": "54800821",
   "metadata": {},
   "source": [
    "## Navigating the curriculum\n",
    "\n",
    "For the most part, you can use the navigation panel on the left to jump quickly to the exercise you're interested in. \n",
    "The `Lab X` pages will have a more detailed summary of all of the associated exercises for that lab, which can be expanded by clicking the down chevron (⌄). \n",
    "<!-- If you want to view the source code of this textbook, you can hover over [Octocat](https://github.com/octocat) in the top-right corner and click {guilabel}`repository` or [click here](https://github.com/enze-chen/mse104l). -->"
   ]
  },
  {
   "cell_type": "markdown",
   "id": "ee55a69d",
   "metadata": {},
   "source": [
    "````{sidebar} Pythonenv\n",
    "```{figure} assets/fig/pythonenv_xkcd.png\n",
    ":alt: pythonenv_xkcd\n",
    ":width: 70%\n",
    ":align: center\n",
    "[xkcd 1987](https://xkcd.com/1987/).\n",
    "```\n",
    "````"
   ]
  },
  {
   "cell_type": "markdown",
   "id": "5ba3eaf5",
   "metadata": {},
   "source": [
    "## Interactivity\n",
    "\n",
    "Several of the pages of this book are actually Jupyter notebooks, which provide interactive programming environments that interleave text, code, and graphics to provide hands-on experience for students. \n",
    "On these pages, you will be able to run Python code in real time, whether that's for a tutorial to learn the commands or for your actual laboratory data analysis.\n",
    "The interactivity is enabled through the campus [JupyterHub](https://datahub.berkeley.edu/), which runs Jupyter notebooks in the cloud so you don't have to manage your own computing resources and Python installations.\n",
    "It's a blessing!"
   ]
  },
  {
   "cell_type": "markdown",
   "id": "5203d562",
   "metadata": {},
   "source": [
    "````{sidebar} Python\n",
    "```{figure} assets/fig/python_xkcd.png\n",
    ":alt: python_xkcd\n",
    ":width: 70%\n",
    ":align: center\n",
    "[xkcd 353](https://xkcd.com/353/).\n",
    "```\n",
    "````"
   ]
  },
  {
   "cell_type": "markdown",
   "id": "3a271a2e",
   "metadata": {},
   "source": [
    "### Why Python? 🐍\n",
    "\n",
    "There are many programming languages one can choose from, and we eventually settled on Python as it has [skyrocketed in popularity](https://stackoverflow.blog/2017/09/06/incredible-growth-python/) in recent years.\n",
    "This growth is in part due to:\n",
    "\n",
    "1. Its _readability_. Python is designed to be simple and reads like English, using common keywords instead of symbols (e.g., `and` vs. `&&`).\n",
    "1. Its _extensibility_. Python makes it easy for developers to write _modules_ that extend its functionalities for applications in data science, [scientific computing](https://www.nature.com/articles/s41586-020-2649-2), [imaging black holes](https://numfocus.org/case-studies/first-photograph-black-hole), and [flying drones on Mars](https://twitter.com/ThePSF/status/1362516507918483458?s=20).\n",
    "1. Its _open-source_ properties. This means anyone can contribute to Python development and anyone can use it—for free!"
   ]
  },
  {
   "cell_type": "markdown",
   "id": "52323cf7",
   "metadata": {},
   "source": [
    "### Launching JupyterHub \n",
    "\n",
    "To launch any page in the JupyterHub, hover over the {fa}`rocket` icon in the top-right corner, click {guilabel}`JupyterHub`, and wait for the Hub to spawn an environment. \n",
    "You may have to login using your CalNet credentials and approve Canvas authorizations.\n",
    "Note that not all pages are interactive, and thus not all pages will have the rocket symbol; we will try to indicate interactive pages with a 🚀 emoji in the navigation bar.\n",
    "**Try it now** for this page and read the rest of the page in JupyterHub!"
   ]
  },
  {
   "cell_type": "markdown",
   "id": "f1f2a40d",
   "metadata": {},
   "source": [
    "### Running a Jupyter notebook \n",
    "\n",
    "The information in Jupyter notebooks is organized into **cells**, which come in many forms.\n",
    "This cell is called a **Markdown cell**, which is used for text that can be formatted with the [Markdown](https://www.markdownguide.org/) markup language.\n",
    "You know this is a Markdown cell because when you select this cell (click on it such that a <font color=\"blue\">blue bar</font> appears on the left), the menu bar at the top shows \"`Markdown  v`\" in the second row:\n",
    "\n",
    "![jupyter_menu](assets/fig/jupyter_menu.png)"
   ]
  },
  {
   "cell_type": "markdown",
   "id": "6ad769ef",
   "metadata": {},
   "source": [
    "#### Code cells\n",
    "\n",
    "Notice how the next cell looks a little different. \n",
    "It is a **code cell**, which you can distinguish in a few ways. \n",
    "\n",
    "- If you click in the cell, the menu bar at the top will now show \"`Code   v`.\"\n",
    "- The cell will always have a gray background.\n",
    "- You may also notice a `In [ ]:` tag in the left margin.\n",
    "\n",
    "You can write Python code in these cells and then **execute the code** with <kbd>Shift</kbd>+<kbd>Enter</kbd>.\n",
    "Or you can click the <kbd>▶ Run</kbd> button in the menu bar to execute the code.\n",
    "\n",
    "**EXERCISE:** In the space below, enter your name between the quotation marks and then run the code cell by pressing <kbd>Shift</kbd>+<kbd>Enter</kbd>."
   ]
  },
  {
   "cell_type": "code",
   "execution_count": null,
   "id": "c7dfed87",
   "metadata": {
    "tags": [
     "remove-output"
    ]
   },
   "outputs": [],
   "source": [
    "# inline comments in Python start with \"#\"\n",
    "name = \"\"                  # enter your name here as a string, which is enclosed by quotation marks\n",
    "print(f'Hello, {name}!')  "
   ]
  },
  {
   "cell_type": "markdown",
   "id": "0980af9e",
   "metadata": {},
   "source": [
    "Now you might notice that some output appeared after you executed the cell (which makes sense because we called `print()`) and a number also appeared between the square brackets!\n",
    "(e.g., `In [1]:`)\n",
    "This number indicates the sequence of code cell execution, which can be handy for a few reasons:\n",
    "\n",
    "- You can clearly tell which cells have been executed and which cells have not.\n",
    "- You can split code among several code blocks and run them in whatever order you want.\n",
    "- You can easily change an earlier code cell (and rerun it!) if you later deem it necessary."
   ]
  },
  {
   "cell_type": "markdown",
   "id": "fee911d8",
   "metadata": {},
   "source": [
    "### Benefits of DataHub\n",
    "\n",
    "If you are a UC Berkeley student, you may be reading this Jupyter notebook on the school's DataHub (a [JupyterHub](https://jupyter.org/hub) instance), which has been graciously provisioned for this module by the [Division of Computing, Data Science, and Society](https://data.berkeley.edu/).\n",
    "With DataHub, all of our Python code will be saved and executed in the cloud, which saves us _a lot_ of hassle with software installation. \n",
    "Everything is also automatically synced with the Jupyter Book!\n",
    "\n",
    "We'll also quickly demonstrate how to navigate to the root directory for you to see all the files in DataHub and upload new ones as needed.\n",
    "Note that when you close a DataHub notebook, **your edits and outputs are preserved** 🙏🏼, but the variables will be reset."
   ]
  },
  {
   "cell_type": "markdown",
   "id": "1186a5b8",
   "metadata": {},
   "source": [
    "## Uploading your own data\n",
    "\n",
    "While we've structured the coding and data analysis, you will still have to supply the raw data that you've collected. \n",
    "Moreover, if there are any files produced by the code (e.g., figures), you will have to download those onto your computer. \n",
    "Luckily, it's quite easy to interface with DataHub to upload/download files so you can use them in your notebooks.\n",
    "\n",
    "First navigate to the root DataHub directory with all of your environments: https://datahub.berkeley.edu is the URL, or you can click the `jupyter` logo in the top-left corner.\n",
    "Then enter the folder of the lab that you're working on, by clicking 📁 > **mse104l** > **lab#**.\n",
    "An example of Lab 1 is shown below.\n",
    "\n",
    "![jhub_lab1](assets/fig/jhub_lab1.png)\n",
    "\n",
    "Here, you can:\n",
    "- **Upload** raw data files (e.g., CSV) by clicking <kbd>Upload</kbd> in the top-right corner and finding the files on your computer.\n",
    "- **Download** files by selecting the check box and clicking <kbd>Download</kbd> in the menu options that appear."
   ]
  },
  {
   "cell_type": "markdown",
   "id": "72c12af0",
   "metadata": {},
   "source": [
    "## Note on external links\n",
    "\n",
    "The default behavior of Jupyter Book/Sphinx/HTML is to open all links _in the current tab_, so if you want to open external links in a new tab, you will have to `Ctrl+Click` the link or right click and select {guilabel}`Open link in new tab`.\n",
    "Otherwise you'll have to keep clicking the ⬅ button in your browser to return to (and reload) the Jupyter Book."
   ]
  }
 ],
 "metadata": {
  "celltoolbar": "Tags",
  "kernelspec": {
   "display_name": "Python 3",
   "language": "python",
   "name": "python3"
  },
  "language_info": {
   "codemirror_mode": {
    "name": "ipython",
    "version": 3
   },
   "file_extension": ".py",
   "mimetype": "text/x-python",
   "name": "python",
   "nbconvert_exporter": "python",
   "pygments_lexer": "ipython3",
   "version": "3.8.8"
  }
 },
 "nbformat": 4,
 "nbformat_minor": 5
}
